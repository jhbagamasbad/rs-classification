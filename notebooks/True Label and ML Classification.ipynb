{
 "cells": [
  {
   "cell_type": "code",
   "execution_count": null,
   "metadata": {
    "colab": {
     "base_uri": "https://localhost:8080/"
    },
    "executionInfo": {
     "elapsed": 14266,
     "status": "ok",
     "timestamp": 1759256563640,
     "user": {
      "displayName": "J-NEIL BAGAMASBAD",
      "userId": "03177234785450833391"
     },
     "user_tz": -480
    },
    "id": "vAORXLzUh0Kt",
    "outputId": "0cb08080-6fac-4144-8292-a55cbe3ec598"
   },
   "outputs": [],
   "source": [
    "from pathlib import Path\n",
    "import pandas as pd\n",
    "import numpy as np\n",
    "import re\n",
    "import os\n",
    "import sys\n",
    "sys.path.insert(0, str(Path.cwd().resolve().parent))  # add repo root to sys.path\n",
    "\n",
    "from project_paths import (\n",
    "    RAW_DIR, EDITED_DIR, FINAL_DIR, ANALYSIS_DIR, TEMP_DIR, DATA_DIR, ROOKIES_PATH\n",
    ")\n",
    "\n",
    "from sklearn.preprocessing import LabelEncoder\n",
    "from sklearn.metrics import confusion_matrix, ConfusionMatrixDisplay, classification_report\n",
    "from sklearn.model_selection import GridSearchCV\n",
    "from sklearn.neighbors import KNeighborsClassifier\n",
    "from sklearn import tree\n",
    "from sklearn.naive_bayes import GaussianNB\n",
    "import matplotlib.pyplot as plt\n",
    "\n",
    "BASE_DIR = DATA_DIR\n",
    "ANALYSIS_DIR = ANALYSIS_DIR\n",
    "\n",
    "# Load the input file (we will be creating a copy of the RANK SCORE full grid dataset for the test-train split)\n",
    "rs_grid_path = ANALYSIS_DIR / \"RANK_SCORE_full_grid.xlsx\"\n",
    "df = pd.read_excel(rs_grid_path)"
   ]
  },
  {
   "cell_type": "code",
   "execution_count": null,
   "metadata": {
    "colab": {
     "base_uri": "https://localhost:8080/"
    },
    "executionInfo": {
     "elapsed": 17,
     "status": "ok",
     "timestamp": 1759256563658,
     "user": {
      "displayName": "J-NEIL BAGAMASBAD",
      "userId": "03177234785450833391"
     },
     "user_tz": -480
    },
    "id": "wtN40Y28loJJ",
    "outputId": "1012862c-301d-4ba1-8421-b14710621023"
   },
   "outputs": [],
   "source": [
    "# Identify & drop Rank Score columns: *_RS and exact RANK_SCORE, plus Player_Role\n",
    "pattern = re.compile(r'(?:_RS$)|(?:^RANK_SCORE$)', flags=re.IGNORECASE)\n",
    "rankscore_cols = [c for c in df.columns if pattern.search(c)]\n",
    "\n",
    "extra_drop = ['Age', 'OLD', 'NEW', 'Pos1', 'Pos2', 'Player_Role']  # drop this too if present\n",
    "to_drop = rankscore_cols + [c for c in extra_drop if c in df.columns]\n",
    "\n",
    "df_ml = df.drop(columns=to_drop, errors='ignore')\n",
    "\n",
    "print(\"Dropped columns:\", to_drop)\n",
    "print(\"Remaining columns (first 20):\", list(df_ml.columns)[:20])"
   ]
  },
  {
   "cell_type": "code",
   "execution_count": null,
   "metadata": {
    "colab": {
     "base_uri": "https://localhost:8080/",
     "height": 363
    },
    "executionInfo": {
     "elapsed": 256,
     "status": "ok",
     "timestamp": 1759256563916,
     "user": {
      "displayName": "J-NEIL BAGAMASBAD",
      "userId": "03177234785450833391"
     },
     "user_tz": -480
    },
    "id": "-RGY4ZPCow35",
    "outputId": "9a8acb39-1f2a-4eb9-b111-116706f84725"
   },
   "outputs": [],
   "source": [
    "# Normalize 'Season' text\n",
    "df_ml['Season'] = df_ml['Season'].astype(str).str.strip()\n",
    "\n",
    "# Extract start year and sort Player ASC, SeasonStart DESC\n",
    "def season_start_year(season: str) -> int:\n",
    "    m = re.match(r'^\\s*(\\d{4})-(\\d{4})\\s*$', season)\n",
    "    return int(m.group(1)) if m else -10**9  # push malformed to the bottom\n",
    "\n",
    "df_ml['_SeasonStart'] = df_ml['Season'].apply(season_start_year)\n",
    "df_ml.sort_values(by=['Player', '_SeasonStart'], ascending=[True, False], inplace=True)\n",
    "\n",
    "df_ml.drop(columns=['_SeasonStart'], inplace=True)\n",
    "\n",
    "df_ml.tail(10)"
   ]
  },
  {
   "cell_type": "code",
   "execution_count": null,
   "metadata": {
    "colab": {
     "base_uri": "https://localhost:8080/",
     "height": 363
    },
    "executionInfo": {
     "elapsed": 151,
     "status": "ok",
     "timestamp": 1759256564069,
     "user": {
      "displayName": "J-NEIL BAGAMASBAD",
      "userId": "03177234785450833391"
     },
     "user_tz": -480
    },
    "id": "FLv5Hf4XwWXB",
    "outputId": "2aac5a88-5255-42bf-eb09-0a81dd5a168d"
   },
   "outputs": [],
   "source": [
    "# True Label Classification\n",
    "# Ensure numeric types\n",
    "df_ml['G']  = pd.to_numeric(df_ml['G'],  errors='coerce')\n",
    "df_ml['GS'] = pd.to_numeric(df_ml['GS'], errors='coerce')\n",
    "df_ml['MP'] = pd.to_numeric(df_ml['MP'], errors='coerce')\n",
    "\n",
    "season = df_ml['Season'].astype(str).str.strip()\n",
    "G  = df_ml['G'].fillna(0)\n",
    "GS = df_ml['GS'].fillna(0)\n",
    "MP = df_ml['MP']  # keep NaN to avoid accidental ROLEPLAYER\n",
    "\n",
    "# DNP: did not play any game\n",
    "is_dnp = G.eq(0)\n",
    "\n",
    "# STARTER: using absolute GS threshold (includes bubble season override)\n",
    "abs_starter = ((season == '2019-2020') & (GS >= 52)) | ((season != '2019-2020') & (GS >= 65))\n",
    "\n",
    "# STARTER: via ratio / all-games-started\n",
    "eps = 1e-9\n",
    "ratio = GS.divide(G.replace(0, np.nan))\n",
    "ratio_starter = (~abs_starter) & (~is_dnp) & ( (ratio >= (65/82) - eps) | (GS.eq(G)) )\n",
    "\n",
    "# ROLEPLAYER: Minutes Played >= 14.4 (equivalent to 30% of play time of NBA regulation game)\n",
    "starter    = abs_starter | ratio_starter | (MP >= 24) # MP >= 24 is to include Sixth Men (or first starter off the bench)\n",
    "roleplayer = (~starter) & (~is_dnp) & (MP >= 14.4)\n",
    "\n",
    "# 4) BENCHWARMER is the remainder\n",
    "df_ml['CLASSIFICATION'] = np.select(\n",
    "    [is_dnp, starter, roleplayer],\n",
    "    ['DNP', 'STARTER', 'ROLEPLAYER'],\n",
    "    default='BENCHWARMER'\n",
    ")\n",
    "\n",
    "df_ml.tail(10)"
   ]
  },
  {
   "cell_type": "code",
   "execution_count": null,
   "metadata": {
    "executionInfo": {
     "elapsed": 21,
     "status": "ok",
     "timestamp": 1759256564111,
     "user": {
      "displayName": "J-NEIL BAGAMASBAD",
      "userId": "03177234785450833391"
     },
     "user_tz": -480
    },
    "id": "rX4BeCfuy1DR"
   },
   "outputs": [],
   "source": [
    "# Filter to 2024–2025 and exclude did-not-play rows (\"DNP\")\n",
    "season_str = '2024-2025'\n",
    "mask = (\n",
    "    df_ml['Season'].astype(str).str.strip().eq(season_str) &\n",
    "    ~df_ml['CLASSIFICATION'].astype(str).str.upper().eq('DNP')\n",
    ")\n",
    "true_labels = df_ml.loc[mask].copy()"
   ]
  },
  {
   "cell_type": "code",
   "execution_count": null,
   "metadata": {
    "colab": {
     "base_uri": "https://localhost:8080/"
    },
    "executionInfo": {
     "elapsed": 316,
     "status": "ok",
     "timestamp": 1759256564433,
     "user": {
      "displayName": "J-NEIL BAGAMASBAD",
      "userId": "03177234785450833391"
     },
     "user_tz": -480
    },
    "id": "41O_D62Sy_vQ",
    "outputId": "47b948a9-09a0-45e1-bb16-444bae44a4a9"
   },
   "outputs": [],
   "source": [
    "# Save to ANALYSIS folder\n",
    "out_path = ANALYSIS_DIR / \"GROUND_TRUTH_2024_2025.xlsx\"\n",
    "os.makedirs(ANALYSIS_DIR, exist_ok=True)\n",
    "true_labels.to_excel(out_path, index=False)\n",
    "\n",
    "print(f\"Saved ground-truth labels: {out_path}\")\n",
    "print(f\"Rows saved: {len(true_labels)}\")"
   ]
  },
  {
   "cell_type": "code",
   "execution_count": null,
   "metadata": {
    "colab": {
     "base_uri": "https://localhost:8080/",
     "height": 363
    },
    "executionInfo": {
     "elapsed": 136,
     "status": "ok",
     "timestamp": 1759256564563,
     "user": {
      "displayName": "J-NEIL BAGAMASBAD",
      "userId": "03177234785450833391"
     },
     "user_tz": -480
    },
    "id": "caZ0vGnr2Din",
    "outputId": "02dc4a87-5f86-44ee-ffa4-0facd9b5c0f6"
   },
   "outputs": [],
   "source": [
    "# ---- Creating the train-test dataset ----\n",
    "# Compute the next season string \"YYYY-YYYY\" -> \"YYYY+1-YYYY+1\"\n",
    "def next_season_str(s: str) -> str | None:\n",
    "    m = re.match(r'^\\s*(\\d{4})-(\\d{4})\\s*$', str(s))\n",
    "    if not m:\n",
    "        return None\n",
    "    y1, y2 = int(m.group(1)), int(m.group(2))\n",
    "    return f\"{y1+1}-{y2+1}\"\n",
    "\n",
    "# Build \"next season\" key on the left\n",
    "df_ml['__NextSeason'] = df_ml['Season'].apply(next_season_str)\n",
    "\n",
    "# Build lookup of next-season classification per (Player, NextSeason)\n",
    "lookup = (\n",
    "    df_ml[['Player', 'Season', 'CLASSIFICATION']]\n",
    "    .drop_duplicates(subset=['Player', 'Season'])\n",
    "    .rename(columns={'Season': '__NextSeason', 'CLASSIFICATION': '__NEXT_CLASS'})\n",
    ")\n",
    "\n",
    "# Left-merge to fetch next-season classification for the same player\n",
    "df_ml = df_ml.merge(lookup, on=['Player', '__NextSeason'], how='left')\n",
    "\n",
    "# Overwrite current classification:\n",
    "# - If next-season class is NaN or 'DNP' -> 'DNP'\n",
    "# - Else copy next-season class\n",
    "next_is_dnp_or_missing = df_ml['__NEXT_CLASS'].isna() | df_ml['__NEXT_CLASS'].str.upper().eq('DNP')\n",
    "df_ml['CLASSIFICATION'] = np.where(next_is_dnp_or_missing, 'DNP', df_ml['__NEXT_CLASS'])\n",
    "\n",
    "# Cleanup helper columns\n",
    "df_ml.drop(columns=['__NextSeason', '__NEXT_CLASS'], inplace=True)\n",
    "\n",
    "df_ml.tail(10)"
   ]
  },
  {
   "cell_type": "code",
   "execution_count": null,
   "metadata": {
    "colab": {
     "base_uri": "https://localhost:8080/",
     "height": 380
    },
    "executionInfo": {
     "elapsed": 117,
     "status": "ok",
     "timestamp": 1759256564682,
     "user": {
      "displayName": "J-NEIL BAGAMASBAD",
      "userId": "03177234785450833391"
     },
     "user_tz": -480
    },
    "id": "DDQE0WvM4Afp",
    "outputId": "decd9488-9a14-4124-cd67-5dcd7f24f2be"
   },
   "outputs": [],
   "source": [
    "# Ensure FG% and FT% are present and numeric\n",
    "required_cols = ['FG%', 'FT%', 'CLASSIFICATION']\n",
    "missing = [c for c in required_cols if c not in df_ml.columns]\n",
    "if missing:\n",
    "    raise KeyError(f\"Missing required columns: {missing}\")\n",
    "\n",
    "df_ml['FG%'] = pd.to_numeric(df_ml['FG%'], errors='coerce')\n",
    "df_ml['FT%'] = pd.to_numeric(df_ml['FT%'], errors='coerce')\n",
    "\n",
    "before = len(df_ml)\n",
    "\n",
    "# Build filter: keep rows that are NOT DNP and have non-null FG% and FT%\n",
    "mask = (\n",
    "    ~df_ml['CLASSIFICATION'].astype(str).str.upper().eq('DNP') &\n",
    "    df_ml['FG%'].notna() &\n",
    "    df_ml['FT%'].notna()\n",
    ")\n",
    "\n",
    "df_ml = df_ml.loc[mask].copy()\n",
    "after = len(df_ml)\n",
    "\n",
    "print(f\"Rows before: {before}  |  after filtering: {after}  |  dropped: {before - after}\")\n",
    "\n",
    "df_ml.tail(10)"
   ]
  },
  {
   "cell_type": "code",
   "execution_count": null,
   "metadata": {
    "colab": {
     "base_uri": "https://localhost:8080/"
    },
    "executionInfo": {
     "elapsed": 1509,
     "status": "ok",
     "timestamp": 1759256566194,
     "user": {
      "displayName": "J-NEIL BAGAMASBAD",
      "userId": "03177234785450833391"
     },
     "user_tz": -480
    },
    "id": "qhpm4pQR4Ta5",
    "outputId": "31948dd7-5d79-46c2-ef37-00871d33824e"
   },
   "outputs": [],
   "source": [
    "# Save ML train-test dataset to Excel\n",
    "ml_out_path = ANALYSIS_DIR / \"ML_train_test_dataset.xlsx\"\n",
    "os.makedirs(ANALYSIS_DIR, exist_ok=True)\n",
    "df_ml.to_excel(ml_out_path, index=False)\n",
    "\n",
    "print(f\"Saved ML train-test dataset -> {ml_out_path}\")\n",
    "print(f\"Shape: {df_ml.shape[0]} rows × {df_ml.shape[1]} columns\")"
   ]
  },
  {
   "cell_type": "code",
   "execution_count": null,
   "metadata": {
    "colab": {
     "base_uri": "https://localhost:8080/"
    },
    "executionInfo": {
     "elapsed": 1248,
     "status": "ok",
     "timestamp": 1759256567444,
     "user": {
      "displayName": "J-NEIL BAGAMASBAD",
      "userId": "03177234785450833391"
     },
     "user_tz": -480
    },
    "id": "HaT2Mwn0_cwb",
    "outputId": "44373bd7-cc78-4f17-ec9c-d948b3b1ed67"
   },
   "outputs": [],
   "source": [
    "# ---- ML Classification (KNN / Decision Tree / Naive Bayes) ----\n",
    "# Load the prepared ML train-test dataset\n",
    "ml_in_path = ANALYSIS_DIR / \"ML_train_test_dataset.xlsx\"\n",
    "stats = pd.read_excel(ml_in_path)\n",
    "\n",
    "# re-check columns\n",
    "feature_cols = ['FG%', '3P', 'FT%', 'TRB', 'AST', 'STL', 'BLK', 'TOV', 'PTS']\n",
    "missing_feats = [c for c in feature_cols if c not in stats.columns]\n",
    "if missing_feats:\n",
    "    raise KeyError(f\"Missing required feature columns: {missing_feats}\")\n",
    "if 'CLASSIFICATION' not in stats.columns:\n",
    "    raise KeyError(\"Missing target column 'CLASSIFICATION' in ml_train_test_dataset.xlsx\")\n",
    "if 'Season' not in stats.columns or 'Player' not in stats.columns:\n",
    "    raise KeyError(\"Input must contain 'Season' and 'Player' columns.\")\n",
    "\n",
    "# Encode labels\n",
    "le = LabelEncoder()\n",
    "stats['ROLE_encoded'] = le.fit_transform(stats['CLASSIFICATION'])\n",
    "# For reference, print encoding mapping:\n",
    "print(\"Label mapping:\", dict(zip(le.classes_, le.transform(le.classes_)))) # e.g., {'BENCHWARMER': 0, 'ROLEPLAYER': 1, 'STARTER': 2}"
   ]
  },
  {
   "cell_type": "code",
   "execution_count": null,
   "metadata": {
    "colab": {
     "base_uri": "https://localhost:8080/"
    },
    "executionInfo": {
     "elapsed": 32,
     "status": "ok",
     "timestamp": 1759256567470,
     "user": {
      "displayName": "J-NEIL BAGAMASBAD",
      "userId": "03177234785450833391"
     },
     "user_tz": -480
    },
    "id": "cG9zMhsNAPhC",
    "outputId": "062cbd26-7a66-425a-cec5-93aaddf487db"
   },
   "outputs": [],
   "source": [
    "# Train-Test Split by Season\n",
    "# Use the most recent season (by start year) as TEST; prior four seasons as TRAIN\n",
    "def _season_start(s):\n",
    "    m = re.match(r'^\\s*(\\d{4})-(\\d{4})\\s*$', str(s))\n",
    "    return int(m.group(1)) if m else -10**9\n",
    "\n",
    "unique_seasons = sorted(stats['Season'].unique(), key=_season_start, reverse=True)\n",
    "if len(unique_seasons) < 2:\n",
    "    raise ValueError(\"Need at least two seasons for a meaningful train/test split.\")\n",
    "\n",
    "test_season = unique_seasons[0]\n",
    "train_seasons = unique_seasons[1:5]  # take up to four seasons before the test season\n",
    "print(f\"Train seasons: {train_seasons}\")\n",
    "print(f\"Test season:   {test_season}\")\n",
    "\n",
    "train_df = stats[stats['Season'].isin(train_seasons)].copy()\n",
    "test_df  = stats[stats['Season'] == test_season].copy()\n",
    "\n",
    "X_train = train_df[feature_cols]\n",
    "y_train = train_df['ROLE_encoded']\n",
    "\n",
    "X_test  = test_df[feature_cols]\n",
    "y_test  = test_df['ROLE_encoded']\n",
    "\n",
    "players_test  = test_df['Player'].reset_index(drop=True)\n",
    "seasons_test  = test_df['Season'].reset_index(drop=True)\n",
    "true_labels   = le.inverse_transform(y_test)"
   ]
  },
  {
   "cell_type": "code",
   "execution_count": null,
   "metadata": {
    "executionInfo": {
     "elapsed": 5,
     "status": "ok",
     "timestamp": 1759256567478,
     "user": {
      "displayName": "J-NEIL BAGAMASBAD",
      "userId": "03177234785450833391"
     },
     "user_tz": -480
    },
    "id": "31MHZ8OQAib4"
   },
   "outputs": [],
   "source": [
    "# For plotting Confusion Matrices\n",
    "def plot_conf_mat(model, title=\"Confusion Matrix\"):\n",
    "    y_pred = model.predict(X_test)\n",
    "    cm = confusion_matrix(y_test, y_pred)\n",
    "    disp = ConfusionMatrixDisplay(confusion_matrix=cm, display_labels=le.classes_)\n",
    "    fig, ax = plt.subplots()\n",
    "    disp.plot(ax=ax, cmap='YlGnBu')\n",
    "    ax.set_title(title)\n",
    "    plt.show()\n",
    "    print(classification_report(y_test, y_pred, target_names=le.classes_))"
   ]
  },
  {
   "cell_type": "code",
   "execution_count": null,
   "metadata": {
    "colab": {
     "base_uri": "https://localhost:8080/"
    },
    "executionInfo": {
     "elapsed": 4091,
     "status": "ok",
     "timestamp": 1759256571572,
     "user": {
      "displayName": "J-NEIL BAGAMASBAD",
      "userId": "03177234785450833391"
     },
     "user_tz": -480
    },
    "id": "0zLE-gunAsaj",
    "outputId": "21779727-525f-4e68-89bc-6d06800337ee"
   },
   "outputs": [],
   "source": [
    "# k-Nearest Neighbors: search best k\n",
    "best_k = None\n",
    "best_acc = -1.0\n",
    "k_range = range(1, 102)  # 1..101\n",
    "k_acc = []\n",
    "\n",
    "for k in k_range:\n",
    "    clf = KNeighborsClassifier(n_neighbors=k)\n",
    "    clf.fit(X_train, y_train)\n",
    "    acc = clf.score(X_test, y_test)\n",
    "    k_acc.append(acc)\n",
    "    if acc > best_acc:\n",
    "        best_acc = acc\n",
    "        best_k = k\n",
    "\n",
    "print(f\"Accuracy for KNN (k={best_k}): {best_acc:.4f}\")"
   ]
  },
  {
   "cell_type": "code",
   "execution_count": null,
   "metadata": {
    "colab": {
     "base_uri": "https://localhost:8080/",
     "height": 646
    },
    "executionInfo": {
     "elapsed": 435,
     "status": "ok",
     "timestamp": 1759256572026,
     "user": {
      "displayName": "J-NEIL BAGAMASBAD",
      "userId": "03177234785450833391"
     },
     "user_tz": -480
    },
    "id": "oqB6wdyWA1So",
    "outputId": "b33bb3e7-be8f-4dd6-db82-2e54c795a686"
   },
   "outputs": [],
   "source": [
    "knn_clf = KNeighborsClassifier(n_neighbors=best_k)\n",
    "knn_clf.fit(X_train, y_train)\n",
    "plot_conf_mat(knn_clf, title=f\"KNN (k={best_k}) Confusion Matrix\")"
   ]
  },
  {
   "cell_type": "code",
   "execution_count": null,
   "metadata": {
    "colab": {
     "base_uri": "https://localhost:8080/",
     "height": 577
    },
    "executionInfo": {
     "elapsed": 342,
     "status": "ok",
     "timestamp": 1759256572371,
     "user": {
      "displayName": "J-NEIL BAGAMASBAD",
      "userId": "03177234785450833391"
     },
     "user_tz": -480
    },
    "id": "jkD7otyCdFgl",
    "outputId": "54ad2c5c-47e1-4a1a-d5f9-34a7fc0c7c12"
   },
   "outputs": [],
   "source": [
    "# k curve\n",
    "fig = plt.figure()\n",
    "ax1 = fig.add_axes([0, 0, 1, 1])\n",
    "ax2 = fig.add_axes([0.5, 0.3, 0.4, 0.2])\n",
    "\n",
    "ax1.plot(k_range, k_acc, 'b')\n",
    "ax1.set_xlabel('k-Value')\n",
    "ax1.set_ylabel('Test Accuracy')\n",
    "\n",
    "ax2.plot(k_range, k_acc, 'b', marker='o', markersize=6, markerfacecolor=\"purple\")\n",
    "ax2.set_xlabel('k-Value')\n",
    "ax2.set_xlim([80, 84])\n",
    "ax2.set_ylabel('Test Accuracy')\n",
    "ax2.set_ylim([0.64, 0.70])"
   ]
  },
  {
   "cell_type": "code",
   "execution_count": null,
   "metadata": {
    "colab": {
     "base_uri": "https://localhost:8080/",
     "height": 1000
    },
    "executionInfo": {
     "elapsed": 965,
     "status": "ok",
     "timestamp": 1759256573338,
     "user": {
      "displayName": "J-NEIL BAGAMASBAD",
      "userId": "03177234785450833391"
     },
     "user_tz": -480
    },
    "id": "1u94QtfVA60g",
    "outputId": "1d694b88-ec6e-4cdb-b17e-c29b74b81d16"
   },
   "outputs": [],
   "source": [
    "# Decision Tree\n",
    "dt_clf = tree.DecisionTreeClassifier(random_state=42, max_depth=3)\n",
    "dt_clf.fit(X_train, y_train)\n",
    "dt_acc = dt_clf.score(X_test, y_test)\n",
    "print(f\"Accuracy for Decision Tree (max_depth=3): {dt_acc:.4f}\")\n",
    "print(tree.export_text(dt_clf, feature_names=feature_cols))\n",
    "\n",
    "# (Optional) visualize tree\n",
    "plt.figure(figsize=(18, 12))\n",
    "tree.plot_tree(\n",
    "    dt_clf,\n",
    "    feature_names=feature_cols,\n",
    "    class_names=list(le.classes_),\n",
    "    filled=True,\n",
    "    rounded=True,\n",
    "    precision=2\n",
    ")\n",
    "plt.title(\"Decision Tree (max_depth=3)\")\n",
    "plt.show()"
   ]
  },
  {
   "cell_type": "code",
   "execution_count": null,
   "metadata": {
    "colab": {
     "base_uri": "https://localhost:8080/",
     "height": 646
    },
    "executionInfo": {
     "elapsed": 130,
     "status": "ok",
     "timestamp": 1759256573470,
     "user": {
      "displayName": "J-NEIL BAGAMASBAD",
      "userId": "03177234785450833391"
     },
     "user_tz": -480
    },
    "id": "cJ6MvTFqBCV6",
    "outputId": "c3995491-3f56-48b9-c77c-84cd63308c5b"
   },
   "outputs": [],
   "source": [
    "plot_conf_mat(dt_clf, title=\"Decision Tree Confusion Matrix\")"
   ]
  },
  {
   "cell_type": "code",
   "execution_count": null,
   "metadata": {
    "colab": {
     "base_uri": "https://localhost:8080/"
    },
    "executionInfo": {
     "elapsed": 1103,
     "status": "ok",
     "timestamp": 1759256574575,
     "user": {
      "displayName": "J-NEIL BAGAMASBAD",
      "userId": "03177234785450833391"
     },
     "user_tz": -480
    },
    "id": "_9k1EydYBELh",
    "outputId": "caf5d149-55fa-4f12-d57c-0adc84838e43"
   },
   "outputs": [],
   "source": [
    "# Grid search for best max_depth (1..10)\n",
    "param_grid = {'max_depth': list(range(1, 11))}\n",
    "grid_search = GridSearchCV(tree.DecisionTreeClassifier(random_state=42), param_grid, cv=10)\n",
    "grid_search.fit(X_train, y_train)\n",
    "best_max_depth = grid_search.best_params_['max_depth']\n",
    "print(\"Best max_depth via GridSearchCV:\", best_max_depth)"
   ]
  },
  {
   "cell_type": "code",
   "execution_count": null,
   "metadata": {
    "colab": {
     "base_uri": "https://localhost:8080/",
     "height": 663
    },
    "executionInfo": {
     "elapsed": 225,
     "status": "ok",
     "timestamp": 1759256574808,
     "user": {
      "displayName": "J-NEIL BAGAMASBAD",
      "userId": "03177234785450833391"
     },
     "user_tz": -480
    },
    "id": "8EJhzCc0BIPA",
    "outputId": "4eb9e66a-8b7d-4287-ea27-600dee7ca80f"
   },
   "outputs": [],
   "source": [
    "# Refit with best depth\n",
    "dt_best = tree.DecisionTreeClassifier(random_state=42, max_depth=best_max_depth)\n",
    "dt_best.fit(X_train, y_train)\n",
    "print(f\"Accuracy for Decision Tree (best max_depth={best_max_depth}): {dt_best.score(X_test, y_test):.4f}\")\n",
    "plot_conf_mat(dt_best, title=f\"Decision Tree (max_depth={best_max_depth}) Confusion Matrix\")"
   ]
  },
  {
   "cell_type": "code",
   "execution_count": null,
   "metadata": {
    "colab": {
     "base_uri": "https://localhost:8080/",
     "height": 663
    },
    "executionInfo": {
     "elapsed": 185,
     "status": "ok",
     "timestamp": 1759256574995,
     "user": {
      "displayName": "J-NEIL BAGAMASBAD",
      "userId": "03177234785450833391"
     },
     "user_tz": -480
    },
    "id": "bdsGmAhXBJ6J",
    "outputId": "6bda7570-0d78-4d2c-eae9-71738a2bee0c"
   },
   "outputs": [],
   "source": [
    "# Naive Bayes\n",
    "nb_clf = GaussianNB()\n",
    "nb_clf.fit(X_train, y_train)\n",
    "nb_acc = nb_clf.score(X_test, y_test)\n",
    "print(f\"Accuracy for Naive Bayes: {nb_acc:.4f}\")\n",
    "plot_conf_mat(nb_clf, title=\"Naive Bayes Confusion Matrix\")"
   ]
  },
  {
   "cell_type": "code",
   "execution_count": null,
   "metadata": {
    "colab": {
     "base_uri": "https://localhost:8080/"
    },
    "executionInfo": {
     "elapsed": 70,
     "status": "ok",
     "timestamp": 1759256575067,
     "user": {
      "displayName": "J-NEIL BAGAMASBAD",
      "userId": "03177234785450833391"
     },
     "user_tz": -480
    },
    "id": "pssSSzRaBMJ6",
    "outputId": "7c5a15fb-376f-4808-bf84-8437151bcbf2"
   },
   "outputs": [],
   "source": [
    "# Save ML Predictions to Excel\n",
    "knn_preds = le.inverse_transform(knn_clf.predict(X_test))\n",
    "dt_preds  = le.inverse_transform(dt_best.predict(X_test))  # use tuned tree\n",
    "nb_preds  = le.inverse_transform(nb_clf.predict(X_test))\n",
    "\n",
    "results_df = pd.DataFrame({\n",
    "    'Player': players_test,\n",
    "    'True Label': true_labels,\n",
    "    'KNN Prediction': knn_preds,\n",
    "    'Decision Tree Prediction': dt_preds,\n",
    "    'Naive Bayes Prediction': nb_preds\n",
    "})\n",
    "\n",
    "ml_results_out = ANALYSIS_DIR / \"ML_Classification_analysis_dataset.xlsx\"\n",
    "results_df.to_excel(ml_results_out, index=False)\n",
    "print(f\"\\nClassification results saved to: {ml_results_out}\")"
   ]
  }
 ],
 "metadata": {
  "colab": {
   "authorship_tag": "ABX9TyNpIwc69c78hLrSf9ym4MsK",
   "provenance": []
  },
  "kernelspec": {
   "display_name": "Python 3 (ipykernel)",
   "language": "python",
   "name": "python3"
  },
  "language_info": {
   "codemirror_mode": {
    "name": "ipython",
    "version": 3
   },
   "file_extension": ".py",
   "mimetype": "text/x-python",
   "name": "python",
   "nbconvert_exporter": "python",
   "pygments_lexer": "ipython3",
   "version": "3.10.9"
  }
 },
 "nbformat": 4,
 "nbformat_minor": 1
}
