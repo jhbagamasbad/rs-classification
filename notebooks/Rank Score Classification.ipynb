{
 "cells": [
  {
   "cell_type": "code",
   "execution_count": null,
   "metadata": {
    "colab": {
     "base_uri": "https://localhost:8080/"
    },
    "executionInfo": {
     "elapsed": 22612,
     "status": "ok",
     "timestamp": 1759234493647,
     "user": {
      "displayName": "J-NEIL BAGAMASBAD",
      "userId": "03177234785450833391"
     },
     "user_tz": -480
    },
    "id": "eWEMlE5ngg8B",
    "outputId": "e2b088d0-2b8d-4023-bd60-ae192df730c2"
   },
   "outputs": [],
   "source": [
    "from pathlib import Path\n",
    "import pandas as pd\n",
    "import numpy as np\n",
    "import re\n",
    "import os\n",
    "import sys\n",
    "sys.path.insert(0, str(Path.cwd().resolve().parent))  # add repo root to sys.path\n",
    "\n",
    "from project_paths import (\n",
    "    RAW_DIR, EDITED_DIR, FINAL_DIR, ANALYSIS_DIR, TEMP_DIR, DATA_DIR, ROOKIES_PATH\n",
    ")\n",
    "\n",
    "BASE_DIR = DATA_DIR\n",
    "FINAL_DIR     = FINAL_DIR       # inputs\n",
    "ANALYSIS_DIR  = ANALYSIS_DIR    # outputs\n",
    "ANALYSIS_DIR.mkdir(parents=True, exist_ok=True)\n",
    "\n",
    "# Rookies list (Player, Season=rookie season)\n",
    "ROOKIES_PATH  = ROOKIES_PATH"
   ]
  },
  {
   "cell_type": "code",
   "execution_count": null,
   "metadata": {
    "executionInfo": {
     "elapsed": 299,
     "status": "ok",
     "timestamp": 1759234493955,
     "user": {
      "displayName": "J-NEIL BAGAMASBAD",
      "userId": "03177234785450833391"
     },
     "user_tz": -480
    },
    "id": "jToGyMHzkHMN"
   },
   "outputs": [],
   "source": [
    "# Load Data\n",
    "final_files = sorted(FINAL_DIR.glob(\"*Season*_final.xlsx\")) or sorted(FINAL_DIR.glob(\"*final.xlsx\"))\n",
    "if not final_files:\n",
    "    raise FileNotFoundError(f\"No season files found in {FINAL_DIR}\")"
   ]
  },
  {
   "cell_type": "code",
   "execution_count": null,
   "metadata": {
    "executionInfo": {
     "elapsed": 13,
     "status": "ok",
     "timestamp": 1759234493972,
     "user": {
      "displayName": "J-NEIL BAGAMASBAD",
      "userId": "03177234785450833391"
     },
     "user_tz": -480
    },
    "id": "u35KRUTJu2mk"
   },
   "outputs": [],
   "source": [
    "# Get season range\n",
    "def parse_season_token(name: str) -> str:\n",
    "    m = re.search(r\"(\\d{4}-\\d{4})\", name)\n",
    "    return m.group(1) if m else \"UNKNOWN\"\n",
    "\n",
    "# Get latest season (2024-2025)\n",
    "def season_start(season: str) -> int:\n",
    "    m = re.match(r\"(\\d{4})-(\\d{4})\", str(season))\n",
    "    return int(m.group(1)) if m else -10**9\n",
    "\n",
    "# Determine's lookup table version (ST (starters and sixth men) or RP (role players and benchwarmers))\n",
    "def player_role(mp: float) -> int:\n",
    "    if pd.isna(mp): return 0\n",
    "    if mp >= 24.0:  return 2  # starter\n",
    "    if mp >= 14.4:  return 1  # rotation\n",
    "    return 0                  # bench"
   ]
  },
  {
   "cell_type": "code",
   "execution_count": null,
   "metadata": {
    "executionInfo": {
     "elapsed": 43,
     "status": "ok",
     "timestamp": 1759234494021,
     "user": {
      "displayName": "J-NEIL BAGAMASBAD",
      "userId": "03177234785450833391"
     },
     "user_tz": -480
    },
    "id": "n-begVV6u6SR"
   },
   "outputs": [],
   "source": [
    "# ---- Threshold tables----\n",
    "BASE_RS_COLS  = ['FG%_RS','3P_RS','FT%_RS','TRB_RS','AST_RS','STL_RS','BLK_RS','TOV_RS','PTS_RS']\n",
    "UPPER_RS_COLS = ['FG%_RS','3P_RS','FT%_RS','TRB_RS','AST_RS','STL_RS','BLK_RS','PTS_RS']  # (no TOV)\n",
    "LOWER_RS_COLS = ['FG%_RS','FT%_RS']\n",
    "\n",
    "base_threshold_ST = {\n",
    "    ('PG','PG'):[0.450,1.5,0.800,3.5,5.5,1.5,0.5,1.5,13.5],('PG','SG'):[0.450,1.5,0.800,3.5,3.5,1.5,0.5,1.5,13.5],\n",
    "    ('PG','SF'):[0.450,1.5,0.800,3.5,4.5,1.5,0.5,1.5,13.5],('PG','PF'):[0.450,0.5,0.775,3.5,2.5,0.5,0.5,1.5,13.5],\n",
    "    ('PG','C') :[0.450,0.5,0.775,3.5,2.5,0.5,0.5,1.5,13.5],\n",
    "    ('SG','PG'):[0.450,1.5,0.800,3.5,3.5,1.5,0.5,1.5,13.5],('SG','SG'):[0.450,1.5,0.800,4.5,3.5,1.5,0.5,1.5,13.5],\n",
    "    ('SG','SF'):[0.450,1.5,0.800,4.5,3.5,1.5,0.5,1.5,13.5],('SG','PF'):[0.450,0.5,0.775,4.5,2.5,0.5,0.5,1.5,13.5],\n",
    "    ('SG','C') :[0.450,0.5,0.775,4.5,2.5,0.5,0.5,1.5,13.5],\n",
    "    ('SF','PG'):[0.450,1.5,0.800,3.5,4.5,1.5,0.5,1.5,13.5],('SF','SG'):[0.450,1.5,0.800,4.5,3.5,1.5,0.5,1.5,13.5],\n",
    "    ('SF','SF'):[0.450,1.5,0.800,5.5,4.5,1.5,0.5,1.5,13.5],('SF','PF'):[0.450,0.5,0.775,5.5,2.5,0.5,1.5,1.5,13.5],\n",
    "    ('SF','C') :[0.450,0.5,0.775,5.5,2.5,0.5,1.5,1.5,13.5],\n",
    "    ('PF','PG'):[0.450,0.5,0.775,3.5,2.5,0.5,0.5,1.5,13.5],('PF','SG'):[0.450,0.5,0.775,4.5,2.5,0.5,0.5,1.5,13.5],\n",
    "    ('PF','SF'):[0.450,0.5,0.775,5.5,2.5,0.5,1.5,1.5,13.5],('PF','PF'):[0.475,0.5,0.775,6.5,2.5,0.5,1.5,0.5,13.5],\n",
    "    ('PF','C') :[0.475,0.5,0.775,6.5,2.5,0.5,1.5,0.5,13.5],\n",
    "    ('C','PG') :[0.450,0.5,0.775,3.5,2.5,0.5,0.5,1.5,13.5],('C','SG'):[0.450,0.5,0.775,4.5,2.5,0.5,0.5,1.5,13.5],\n",
    "    ('C','SF') :[0.450,0.5,0.775,5.5,2.5,0.5,1.5,1.5,13.5],('C','PF'):[0.475,0.5,0.775,6.5,2.5,0.5,1.5,0.5,13.5],\n",
    "    ('C','C')  :[0.475,0.5,0.775,6.5,2.5,0.5,1.5,0.5,13.5]\n",
    "}\n",
    "base_threshold_RP = {\n",
    "    ('PG','PG'):[0.450,1.5,0.800,3.5,4.5,1.5,0.5,1.5,9.5], ('PG','SG'):[0.450,1.5,0.800,3.5,2.5,1.5,0.5,1.5,9.5],\n",
    "    ('PG','SF'):[0.450,1.5,0.800,3.5,3.5,1.5,0.5,1.5,9.5], ('PG','PF'):[0.450,0.5,0.775,3.5,2.5,0.5,0.5,1.5,9.5],\n",
    "    ('PG','C') :[0.450,0.5,0.775,3.5,2.5,0.5,0.5,1.5,9.5],\n",
    "    ('SG','PG'):[0.450,1.5,0.800,3.5,2.5,1.5,0.5,1.5,9.5], ('SG','SG'):[0.450,1.5,0.800,3.5,2.5,1.5,0.5,1.5,9.5],\n",
    "    ('SG','SF'):[0.450,1.5,0.800,3.5,2.5,1.5,0.5,1.5,9.5], ('SG','PF'):[0.450,0.5,0.775,3.5,2.5,0.5,0.5,1.5,9.5],\n",
    "    ('SG','C') :[0.450,0.5,0.775,3.5,2.5,0.5,0.5,1.5,9.5],\n",
    "    ('SF','PG'):[0.450,1.5,0.800,3.5,3.5,1.5,0.5,1.5,9.5], ('SF','SG'):[0.450,1.5,0.800,3.5,2.5,1.5,0.5,1.5,9.5],\n",
    "    ('SF','SF'):[0.450,1.5,0.800,4.5,3.5,1.5,0.5,1.5,9.5], ('SF','PF'):[0.450,0.5,0.775,4.5,2.5,0.5,1.5,1.5,9.5],\n",
    "    ('SF','C') :[0.450,0.5,0.775,4.5,2.5,0.5,1.5,1.5,9.5],\n",
    "    ('PF','PG'):[0.450,0.5,0.775,3.5,2.5,0.5,0.5,1.5,9.5], ('PF','SG'):[0.450,0.5,0.775,3.5,2.5,0.5,0.5,1.5,9.5],\n",
    "    ('PF','SF'):[0.450,0.5,0.775,4.5,2.5,0.5,1.5,1.5,9.5], ('PF','PF'):[0.475,0.5,0.775,5.5,2.5,0.5,1.5,0.5,9.5],\n",
    "    ('PF','C') :[0.475,0.5,0.775,5.5,2.5,0.5,1.5,0.5,9.5],\n",
    "    ('C','PG') :[0.450,0.5,0.775,3.5,2.5,0.5,0.5,1.5,9.5], ('C','SG'):[0.450,0.5,0.775,3.5,2.5,0.5,0.5,1.5,9.5],\n",
    "    ('C','SF') :[0.450,0.5,0.775,4.5,2.5,0.5,1.5,1.5,9.5], ('C','PF'):[0.475,0.5,0.775,5.5,2.5,0.5,1.5,0.5,9.5],\n",
    "    ('C','C')  :[0.475,0.5,0.775,5.5,2.5,0.5,1.5,0.5,9.5]\n",
    "}\n",
    "upper_threshold_ST = {\n",
    "    ('PG','PG'):[0.475,2.5,0.850,6.5,7.5,2.5,1.5,17.5],('PG','SG'):[0.475,2.5,0.850,6.5,5.5,2.5,1.5,17.5],\n",
    "    ('PG','SF'):[0.475,2.5,0.850,6.5,6.5,2.5,1.5,17.5],('PG','PF'):[0.475,1.5,0.825,6.5,4.5,1.5,1.5,17.5],\n",
    "    ('PG','C') :[0.475,1.5,0.825,6.5,4.5,1.5,1.5,17.5],\n",
    "    ('SG','PG'):[0.475,2.5,0.850,6.5,5.5,2.5,1.5,17.5],('SG','SG'):[0.475,2.5,0.850,7.5,5.5,2.5,1.5,17.5],\n",
    "    ('SG','SF'):[0.475,2.5,0.850,7.5,5.5,2.5,1.5,17.5],('SG','PF'):[0.475,1.5,0.825,7.5,4.5,1.5,1.5,17.5],\n",
    "    ('SG','C') :[0.475,1.5,0.825,7.5,4.5,1.5,1.5,17.5],\n",
    "    ('SF','PG'):[0.475,2.5,0.850,6.5,6.5,2.5,1.5,17.5],('SF','SG'):[0.475,2.5,0.850,7.5,5.5,2.5,1.5,17.5],\n",
    "    ('SF','SF'):[0.475,2.5,0.850,8.5,6.5,2.5,1.5,17.5],('SF','PF'):[0.475,1.5,0.825,8.5,4.5,1.5,2.5,17.5],\n",
    "    ('SF','C') :[0.475,1.5,0.825,8.5,4.5,1.5,2.5,17.5],\n",
    "    ('PF','PG'):[0.475,1.5,0.825,6.5,4.5,1.5,1.5,17.5],('PF','SG'):[0.475,1.5,0.825,6.5,4.5,1.5,1.5,17.5],\n",
    "    ('PF','SF'):[0.475,1.5,0.825,7.5,4.5,1.5,2.5,17.5],('PF','PF'):[0.500,1.5,0.825,9.5,4.5,1.5,2.5,17.5],\n",
    "    ('PF','C') :[0.500,1.5,0.825,9.5,4.5,1.5,2.5,17.5],\n",
    "    ('C','PG') :[0.475,1.5,0.825,6.5,4.5,1.5,1.5,17.5],('C','SG'):[0.475,1.5,0.825,6.5,4.5,1.5,1.5,17.5],\n",
    "    ('C','SF') :[0.475,1.5,0.825,8.5,4.5,1.5,2.5,17.5],('C','PF'):[0.500,1.5,0.825,9.5,4.5,1.5,2.5,17.5],\n",
    "    ('C','C')  :[0.500,1.5,0.825,9.5,4.5,1.5,2.5,17.5]\n",
    "}\n",
    "upper_threshold_RP = {\n",
    "    ('PG','PG'):[0.475,2.5,0.850,6.5,6.5,2.5,1.5,13.5],('PG','SG'):[0.475,2.5,0.850,6.5,4.5,2.5,1.5,13.5],\n",
    "    ('PG','SF'):[0.475,2.5,0.850,6.5,5.5,2.5,1.5,13.5],('PG','PF'):[0.475,1.5,0.825,6.5,4.5,1.5,1.5,13.5],\n",
    "    ('PG','C') :[0.475,1.5,0.825,6.5,4.5,1.5,1.5,13.5],\n",
    "    ('SG','PG'):[0.475,2.5,0.850,6.5,4.5,2.5,1.5,13.5],('SG','SG'):[0.475,2.5,0.850,6.5,4.5,2.5,1.5,13.5],\n",
    "    ('SG','SF'):[0.475,2.5,0.850,6.5,4.5,2.5,1.5,13.5],('SG','PF'):[0.475,1.5,0.825,6.5,4.5,1.5,1.5,13.5],\n",
    "    ('SG','C') :[0.475,1.5,0.825,6.5,4.5,1.5,1.5,13.5],\n",
    "    ('SF','PG'):[0.475,2.5,0.850,6.5,5.5,2.5,1.5,13.5],('SF','SG'):[0.475,2.5,0.850,6.5,4.5,2.5,1.5,13.5],\n",
    "    ('SF','SF'):[0.475,2.5,0.850,7.5,5.5,2.5,1.5,13.5],('SF','PF'):[0.475,1.5,0.825,7.5,4.5,1.5,2.5,13.5],\n",
    "    ('SF','C') :[0.475,1.5,0.825,7.5,4.5,1.5,2.5,13.5],\n",
    "    ('PF','PG'):[0.475,1.5,0.825,6.5,4.5,1.5,1.5,13.5],('PF','SG'):[0.475,1.5,0.825,6.5,4.5,1.5,1.5,13.5],\n",
    "    ('PF','SF'):[0.475,1.5,0.825,7.5,4.5,1.5,2.5,13.5],('PF','PF'):[0.500,1.5,0.825,8.5,4.5,1.5,2.5,13.5],\n",
    "    ('PF','C') :[0.500,1.5,0.825,8.5,4.5,1.5,2.5,13.5],\n",
    "    ('C','PG') :[0.475,1.5,0.825,6.5,4.5,1.5,1.5,13.5],('C','SG'):[0.475,1.5,0.825,6.5,4.5,1.5,1.5,13.5],\n",
    "    ('C','SF') :[0.475,1.5,0.825,7.5,4.5,1.5,2.5,13.5],('C','PF'):[0.500,1.5,0.825,8.5,4.5,1.5,2.5,13.5],\n",
    "    ('C','C')  :[0.500,1.5,0.825,8.5,4.5,1.5,2.5,13.5]\n",
    "}\n",
    "lower_threshold_ST = {\n",
    "    ('PG','PG'):[0.425,0.750],('PG','SG'):[0.425,0.750],('PG','SF'):[0.425,0.750],\n",
    "    ('PG','PF'):[0.425,0.725],('PG','C'):[0.425,0.725],\n",
    "    ('SG','PG'):[0.425,0.750],('SG','SG'):[0.425,0.750],('SG','SF'):[0.425,0.750],\n",
    "    ('SG','PF'):[0.425,0.725],('SG','C'):[0.425,0.725],\n",
    "    ('SF','PG'):[0.425,0.750],('SF','SG'):[0.425,0.750],('SF','SF'):[0.425,0.750],\n",
    "    ('SF','PF'):[0.425,0.725],('SF','C'):[0.425,0.725],\n",
    "    ('PF','PG'):[0.425,0.725],('PF','SG'):[0.425,0.725],('PF','SF'):[0.425,0.725],\n",
    "    ('PF','PF'):[0.450,0.725],('PF','C'):[0.450,0.725],\n",
    "    ('C','PG'):[0.425,0.725],('C','SG'):[0.425,0.725],('C','SF'):[0.425,0.725],\n",
    "    ('C','PF'):[0.450,0.725],('C','C'):[0.450,0.725]\n",
    "}\n",
    "lower_threshold_RP = lower_threshold_ST  # same"
   ]
  },
  {
   "cell_type": "code",
   "execution_count": null,
   "metadata": {
    "executionInfo": {
     "elapsed": 19,
     "status": "ok",
     "timestamp": 1759234494044,
     "user": {
      "displayName": "J-NEIL BAGAMASBAD",
      "userId": "03177234785450833391"
     },
     "user_tz": -480
    },
    "id": "dBct0fu9vI1b"
   },
   "outputs": [],
   "source": [
    "# Steps/Functions for scoring (and adjusting of scores) player averages in each categories\n",
    "def base_check_stat(row):\n",
    "    pos_key = (row.get('Pos1'), row.get('Pos2'))\n",
    "    thresholds = base_threshold_ST.get(pos_key) if row['Player_Role'] == 2 else base_threshold_RP.get(pos_key)\n",
    "    if thresholds is None:\n",
    "        return [0]*len(BASE_RS_COLS)\n",
    "    stats = ['FG%','3P','FT%','TRB','AST','STL','BLK','TOV','PTS']\n",
    "    out = []\n",
    "    for stat, thr in zip(stats, thresholds):\n",
    "        v = row.get(stat, np.nan)\n",
    "        out.append(0 if pd.isna(v) else int(v >= thr))\n",
    "    return out\n",
    "\n",
    "def upper_check_stat(row):\n",
    "    pos_key = (row.get('Pos1'), row.get('Pos2'))\n",
    "    thresholds = upper_threshold_ST.get(pos_key) if row['Player_Role'] == 2 else upper_threshold_RP.get(pos_key)\n",
    "    if thresholds is None:\n",
    "        return list(row[UPPER_RS_COLS])\n",
    "    stats = ['FG%','3P','FT%','TRB','AST','STL','BLK','PTS']\n",
    "    curr  = list(row[UPPER_RS_COLS])\n",
    "    out   = []\n",
    "    for stat, thr, cur in zip(stats, thresholds, curr):\n",
    "        v = row.get(stat, np.nan)\n",
    "        out.append(cur if pd.isna(v) else (2 if v >= thr else cur))\n",
    "    return out\n",
    "\n",
    "def lower_check_stats(row):\n",
    "    pos_key = (row.get('Pos1'), row.get('Pos2'))\n",
    "    thresholds = lower_threshold_ST.get(pos_key) if row['Player_Role'] == 2 else lower_threshold_RP.get(pos_key)\n",
    "    if thresholds is None:\n",
    "        return list(row[LOWER_RS_COLS])\n",
    "    stats = ['FG%','FT%']\n",
    "    curr  = list(row[LOWER_RS_COLS])\n",
    "    out   = curr[:]\n",
    "    for i, (stat, thr) in enumerate(zip(stats, thresholds)):\n",
    "        v = row.get(stat, np.nan)\n",
    "        if pd.notna(v) and v < thr:\n",
    "            out[i] = -1\n",
    "    return out\n",
    "\n",
    "def check_tov(row):\n",
    "    pos_key = (row.get('Pos1'), row.get('Pos2'))\n",
    "    bigs = {('PF','PF'),('PF','C'),('C','PF'),('C','C')}\n",
    "    v = row.get('TOV', np.nan)\n",
    "    if pd.isna(v): return 0\n",
    "    if pos_key in bigs:\n",
    "        return 2 if v < 0.5 else (1 if v < 1.0 else (0 if v < 1.5 else -1))\n",
    "    return 2 if v < 1.5 else (1 if v < 2.0 else (0 if v < 2.5 else -1))"
   ]
  },
  {
   "cell_type": "code",
   "execution_count": null,
   "metadata": {
    "executionInfo": {
     "elapsed": 5366,
     "status": "ok",
     "timestamp": 1759234499506,
     "user": {
      "displayName": "J-NEIL BAGAMASBAD",
      "userId": "03177234785450833391"
     },
     "user_tz": -480
    },
    "id": "aH6UzaVivfh0"
   },
   "outputs": [],
   "source": [
    "# Score each player per category in each season file\n",
    "scored_frames = []\n",
    "for path in final_files:\n",
    "    season = parse_season_token(path.name)\n",
    "    df = pd.read_excel(path)\n",
    "\n",
    "    required = ['Player','MP','Pos1','Pos2','FG%','3P','FT%','TRB','AST','STL','BLK','TOV','PTS']\n",
    "    miss = [c for c in required if c not in df.columns]\n",
    "    if miss:\n",
    "        raise ValueError(f\"{path.name} missing columns: {miss}\")\n",
    "\n",
    "    # Numerics & percentage scale\n",
    "    for c in ['MP','FG%','3P','FT%','TRB','AST','STL','BLK','TOV','PTS']:\n",
    "        df[c] = pd.to_numeric(df[c], errors='coerce')\n",
    "    for c in ['FG%','FT%']:\n",
    "        if df[c].dropna().max() > 1.0:\n",
    "            df[c] = df[c]/100.0\n",
    "\n",
    "    # Role & checks\n",
    "    df['Player_Role'] = df['MP'].apply(player_role)\n",
    "    df[BASE_RS_COLS]  = df.apply(base_check_stat,  axis=1, result_type='expand')\n",
    "    df[UPPER_RS_COLS] = df.apply(upper_check_stat, axis=1, result_type='expand')\n",
    "    df[LOWER_RS_COLS] = df.apply(lower_check_stats, axis=1, result_type='expand')\n",
    "    df['TOV_RS'] = df.apply(check_tov, axis=1)\n",
    "    df['RANK_SCORE'] = df[['FG%_RS','3P_RS','FT%_RS','TRB_RS','AST_RS',\n",
    "                              'STL_RS','BLK_RS','TOV_RS','PTS_RS']].sum(axis=1)\n",
    "\n",
    "    df.insert(0, 'Season', season)\n",
    "    scored_frames.append(df)\n",
    "\n",
    "scored = pd.concat(scored_frames, ignore_index=True)"
   ]
  },
  {
   "cell_type": "code",
   "execution_count": null,
   "metadata": {
    "executionInfo": {
     "elapsed": 1883,
     "status": "ok",
     "timestamp": 1759234501393,
     "user": {
      "displayName": "J-NEIL BAGAMASBAD",
      "userId": "03177234785450833391"
     },
     "user_tz": -480
    },
    "id": "FOjD_Zl0vnCS"
   },
   "outputs": [],
   "source": [
    "# Builds full Player×Season grid\n",
    "all_players = scored['Player'].dropna().unique()\n",
    "all_seasons = sorted({parse_season_token(p.name) for p in final_files},\n",
    "                     key=lambda s: season_start(s), reverse=True)\n",
    "\n",
    "full_index = pd.MultiIndex.from_product([all_seasons, all_players], names=['Season','Player'])\n",
    "grid = pd.DataFrame(index=full_index).reset_index()\n",
    "\n",
    "# Merge scored data into full grid (left keeps full Season×Player)\n",
    "grid = grid.merge(scored, on=['Season','Player'], how='left')\n",
    "\n",
    "# Fill check columns with 0 where a player didn't play that season\n",
    "for col in BASE_RS_COLS + ['RANK_SCORE']:\n",
    "    if col in grid.columns:\n",
    "        grid[col] = grid[col].fillna(0).astype(int)\n",
    "\n",
    "# Age imputation for latest season only (generalized) ----\n",
    "latest_season = all_seasons[0]  # most recent by start-year desc\n",
    "start_map = {s: season_start(s) for s in all_seasons}\n",
    "\n",
    "# Build most recent known age before the latest season for each player\n",
    "age_lookup = {}\n",
    "for pl, sub in grid[grid['Age'].notna()].groupby('Player', dropna=False):\n",
    "    # Keep the row with the max start-year strictly less than latest\n",
    "    prior = sub[sub['Season'].map(start_map) < start_map[latest_season]]\n",
    "    if not prior.empty:\n",
    "        row = prior.iloc[prior['Season'].map(start_map).argmax()]\n",
    "        age_lookup[pl] = (row['Age'], start_map[row['Season']])\n",
    "\n",
    "# Fill missing Age in latest season\n",
    "mask_latest = (grid['Season'] == latest_season) & (grid['Age'].isna())\n",
    "for idx in grid[mask_latest].index:\n",
    "    pl = grid.at[idx, 'Player']\n",
    "    if pl in age_lookup:\n",
    "        prev_age, prev_year = age_lookup[pl]\n",
    "        est = pd.to_numeric(prev_age, errors='coerce')\n",
    "        if pd.notna(est):\n",
    "            years_since = start_map[latest_season] - prev_year\n",
    "            grid.at[idx, 'Age'] = est + years_since"
   ]
  },
  {
   "cell_type": "code",
   "execution_count": null,
   "metadata": {
    "colab": {
     "base_uri": "https://localhost:8080/"
    },
    "executionInfo": {
     "elapsed": 1034,
     "status": "ok",
     "timestamp": 1759234502431,
     "user": {
      "displayName": "J-NEIL BAGAMASBAD",
      "userId": "03177234785450833391"
     },
     "user_tz": -480
    },
    "id": "bjcPVe9wwESb",
    "outputId": "9a105db8-1850-41bb-e707-22ab5be76a04"
   },
   "outputs": [],
   "source": [
    "# Composite per-player scoring\n",
    "# Base recency weights: top 5 most-recent seasons -> 5/15,4/15,3/15,2/15,1/15; others 0\n",
    "top5 = all_seasons[:5]\n",
    "base_weights = {s:w/15 for s,w in zip(top5, [5,4,3,2,1])}\n",
    "\n",
    "# Build weight_frame over all (Player, Season) in the grid\n",
    "wf = grid[['Player','Season']].drop_duplicates().copy()\n",
    "wf['BaseWeight'] = wf['Season'].map(base_weights).fillna(0.0)\n",
    "wf['SeasonStartYear'] = wf['Season'].map(season_start)\n",
    "\n",
    "# Load rookies list\n",
    "rookies = None\n",
    "if ROOKIES_PATH.exists():\n",
    "    if ROOKIES_PATH.suffix.lower() in ('.xlsx','.xls'):\n",
    "        rookies = pd.read_excel(ROOKIES_PATH)\n",
    "    elif ROOKIES_PATH.suffix.lower() == '.csv':\n",
    "        rookies = pd.read_csv(ROOKIES_PATH)\n",
    "    else:\n",
    "        rookies = None\n",
    "\n",
    "if rookies is not None and {'Player','Season'}.issubset(rookies.columns):\n",
    "    rookies = rookies.rename(columns={'Season':'RookieSeason'})\n",
    "    rookies['RookieSeason'] = rookies['RookieSeason'].astype(str).str.strip()\n",
    "    rookies['RookieStartYear'] = rookies['RookieSeason'].str.split('-').str[0].astype(int)\n",
    "    wf = wf.merge(rookies[['Player','RookieStartYear']], on='Player', how='left')\n",
    "else:\n",
    "    wf['RookieStartYear'] = np.nan  # no rookie overrides available\n",
    "\n",
    "# Rank within rookie-and-later seasons (pre-rookie -> 0)\n",
    "is_listed = wf['RookieStartYear'].notna()\n",
    "wf['Rank'] = np.where(\n",
    "    is_listed,\n",
    "    np.maximum(0, wf['SeasonStartYear'] - wf['RookieStartYear'] + 1),\n",
    "    np.nan\n",
    ")\n",
    "\n",
    "# Finalize weights: for listed rookies use triangular normalized ranks; others use BaseWeight\n",
    "def finalize_weights(group: pd.DataFrame) -> pd.Series:\n",
    "    if group['RookieStartYear'].notna().any():\n",
    "        N = group['Rank'].max()\n",
    "        if pd.notna(N) and N > 0:\n",
    "            denom = N*(N+1)/2.0\n",
    "            return group['Rank'].fillna(0)/denom  # pre-rookie rank=0 -> 0 weight\n",
    "        return group['BaseWeight']\n",
    "    return group['BaseWeight']\n",
    "\n",
    "wf['Weight'] = wf.groupby('Player', group_keys=False).apply(finalize_weights)\n",
    "wf['Weight'] = wf['Weight'].fillna(0.0)\n",
    "\n",
    "# Compute weighted composite per metric\n",
    "rs_cols = ['FG%_RS','3P_RS','FT%_RS','TRB_RS','AST_RS',\n",
    "              'STL_RS','BLK_RS','TOV_RS','PTS_RS']\n",
    "\n",
    "composites = {}\n",
    "for col in rs_cols:\n",
    "    tmp = grid[['Player','Season',col]].merge(wf[['Player','Season','Weight']],\n",
    "                                              on=['Player','Season'], how='left')\n",
    "    tmp['Weighted'] = tmp[col] * tmp['Weight']\n",
    "    composites[col] = tmp.groupby('Player', dropna=False)['Weighted'].sum(min_count=1)\n",
    "\n",
    "analysis = pd.DataFrame(composites).rename_axis('Player').reset_index()\n",
    "\n",
    "# Attach Age in latest season (after imputation above)\n",
    "age_latest = (grid[grid['Season'] == latest_season][['Player','Age']]\n",
    "              .drop_duplicates(subset='Player'))\n",
    "analysis = analysis.merge(age_latest, on='Player', how='left')\n",
    "\n",
    "# Composite total (sum across checks)\n",
    "analysis['RANK_SCORE'] = analysis[rs_cols].sum(axis=1).round(3)"
   ]
  },
  {
   "cell_type": "code",
   "execution_count": null,
   "metadata": {
    "executionInfo": {
     "elapsed": 4,
     "status": "ok",
     "timestamp": 1759234502442,
     "user": {
      "displayName": "J-NEIL BAGAMASBAD",
      "userId": "03177234785450833391"
     },
     "user_tz": -480
    },
    "id": "n3Zw6zP3X-rd"
   },
   "outputs": [],
   "source": [
    "# Classification based on RANK_SCORE\n",
    "# Uses the (already rounded) RANK_SCORE: >=5 STARTER, <4 BENCHWARMER, else ROLEPLAYER\n",
    "analysis['Classification'] = np.select(\n",
    "    [analysis['RANK_SCORE'] >= 5, analysis['RANK_SCORE'] < 4],\n",
    "    ['STARTER', 'BENCHWARMER'],\n",
    "    default='ROLEPLAYER'\n",
    ")"
   ]
  },
  {
   "cell_type": "code",
   "execution_count": null,
   "metadata": {
    "colab": {
     "base_uri": "https://localhost:8080/"
    },
    "executionInfo": {
     "elapsed": 4643,
     "status": "ok",
     "timestamp": 1759234507089,
     "user": {
      "displayName": "J-NEIL BAGAMASBAD",
      "userId": "03177234785450833391"
     },
     "user_tz": -480
    },
    "id": "CFx1-vBZwa4z",
    "outputId": "712b9251-f5c5-431a-bcc0-f946b15cff4a"
   },
   "outputs": [],
   "source": [
    "# Save outputs\n",
    "panel_path   = ANALYSIS_DIR / \"RANK_SCORE_full_grid.xlsx\"\n",
    "summary_path = ANALYSIS_DIR / \"RANK_SCORE_analysis_dataset.xlsx\"\n",
    "\n",
    "grid.to_excel(panel_path, index=False)\n",
    "analysis[['Player','Age'] + rs_cols + ['RANK_SCORE','Classification']].sort_values('Player').to_excel(summary_path, index=False)\n",
    "\n",
    "print(f\"Saved full grid  -> {panel_path}\")\n",
    "print(f\"Saved per-player -> {summary_path}\")"
   ]
  },
  {
   "cell_type": "code",
   "execution_count": null,
   "metadata": {
    "colab": {
     "base_uri": "https://localhost:8080/",
     "height": 0
    },
    "executionInfo": {
     "elapsed": 156,
     "status": "ok",
     "timestamp": 1759234507252,
     "user": {
      "displayName": "J-NEIL BAGAMASBAD",
      "userId": "03177234785450833391"
     },
     "user_tz": -480
    },
    "id": "uNsI6GXWwedK",
    "outputId": "8ff53220-4bb0-4ecc-85b1-fa3e1b4721aa"
   },
   "outputs": [],
   "source": [
    "# Full Grid Quick view\n",
    "from IPython.display import display\n",
    "display(grid.head(12)[['Season','Player','Pos1','Pos2','MP'] + rs_cols + ['RANK_SCORE']])\n",
    "display(analysis.head(10))"
   ]
  },
  {
   "cell_type": "code",
   "execution_count": null,
   "metadata": {
    "colab": {
     "base_uri": "https://localhost:8080/",
     "height": 0
    },
    "executionInfo": {
     "elapsed": 210,
     "status": "ok",
     "timestamp": 1759234507469,
     "user": {
      "displayName": "J-NEIL BAGAMASBAD",
      "userId": "03177234785450833391"
     },
     "user_tz": -480
    },
    "id": "AVXN5GhxGB6t",
    "outputId": "96d74d3e-b3ad-4ad7-f15d-b0849d77f75c"
   },
   "outputs": [],
   "source": [
    "# Check a player's composite score computation\n",
    "who = \"CUNNINGHAM, Cade\"  # change me\n",
    "dbg = (grid[grid['Player']==who][['Season','MP'] + rs_cols]\n",
    "       .merge(wf[wf['Player']==who][['Season','Weight']], on='Season', how='left')\n",
    "       .sort_values('Season'))\n",
    "dbg['FG%_Weighted'] = dbg['FG%_RS'] * dbg['Weight']\n",
    "dbg"
   ]
  }
 ],
 "metadata": {
  "colab": {
   "authorship_tag": "ABX9TyPZjTqlW4zgFL/oe28ckTnQ",
   "provenance": []
  },
  "kernelspec": {
   "display_name": "Python 3 (ipykernel)",
   "language": "python",
   "name": "python3"
  },
  "language_info": {
   "codemirror_mode": {
    "name": "ipython",
    "version": 3
   },
   "file_extension": ".py",
   "mimetype": "text/x-python",
   "name": "python",
   "nbconvert_exporter": "python",
   "pygments_lexer": "ipython3",
   "version": "3.10.9"
  }
 },
 "nbformat": 4,
 "nbformat_minor": 1
}
