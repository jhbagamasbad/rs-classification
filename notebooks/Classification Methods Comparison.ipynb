{
 "cells": [
  {
   "cell_type": "markdown",
   "metadata": {
    "id": "KUm3pPfYSKVi"
   },
   "source": [
    "PER and DARKO DPM ratings were sourced from [basketball-reference.com](https://www.basketball-reference.com/leagues/NBA_2025_advanced.html) as well as Kostya Medvedovsky's [DARKO website](https://apanalytics.shinyapps.io/DARKO/). Clicking on the links will directly show you the dataset you need to export, but unfortunately for the latter the data is no longer available due to their database being continuously updated.\n",
    "\n",
    "I have included in the repository a copy of the DARKO dataset updated up until the end of the 2024-2025 NBA regular season, dated April 29, 2025. But if you wish to skip the data gathering from both sides, I also included a dataset that combines both ratings for players with filename: ***'PER_DARKO_combined_dataset.xlsx'***."
   ]
  },
  {
   "cell_type": "code",
   "execution_count": null,
   "metadata": {
    "colab": {
     "base_uri": "https://localhost:8080/"
    },
    "executionInfo": {
     "elapsed": 3736,
     "status": "ok",
     "timestamp": 1759264629161,
     "user": {
      "displayName": "J-NEIL BAGAMASBAD",
      "userId": "03177234785450833391"
     },
     "user_tz": -480
    },
    "id": "6WXmxUtgrJRI",
    "outputId": "38caeb04-cb23-4442-c144-52c8bd75073f"
   },
   "outputs": [],
   "source": [
    "from pathlib import Path\n",
    "import pandas as pd\n",
    "import numpy as np\n",
    "import os\n",
    "import sys\n",
    "sys.path.insert(0, str(Path.cwd().resolve().parent))  # add repo root to sys.path\n",
    "\n",
    "from project_paths import (\n",
    "    RAW_DIR, EDITED_DIR, FINAL_DIR, ANALYSIS_DIR, TEMP_DIR, DATA_DIR, ROOKIES_PATH\n",
    ")\n",
    "\n",
    "from IPython.display import display\n",
    "import matplotlib.pyplot as plt\n",
    "from sklearn.metrics import confusion_matrix, ConfusionMatrixDisplay, f1_score\n",
    "import seaborn as sns\n",
    "\n",
    "# Load input\n",
    "BASE_DIR = DATA_DIR\n",
    "ANALYSIS_DIR = ANALYSIS_DIR\n",
    "INPUT_PATH   = ANALYSIS_DIR / \"PER_DARKO_combined_dataset.xlsx\"\n",
    "OUTPUT_PATH  = ANALYSIS_DIR / \"PER_DARKO_classified.xlsx\"\n",
    "\n",
    "if not INPUT_PATH.exists():\n",
    "    raise FileNotFoundError(f\"Could not find: {INPUT_PATH}\")\n",
    "df_pd = pd.read_excel(INPUT_PATH)\n",
    "\n",
    "required_cols = {\"Player\", \"PER\", \"DPM\"}\n",
    "missing = required_cols - set(df_pd.columns)\n",
    "if missing:\n",
    "    raise KeyError(f\"Missing required columns: {sorted(missing)}\")\n",
    "\n",
    "df_pd['Player'] = df_pd['Player'].astype(str).str.strip()\n",
    "df_pd['PER'] = pd.to_numeric(df_pd['PER'], errors='coerce')\n",
    "df_pd['DPM'] = pd.to_numeric(df_pd['DPM'], errors='coerce')"
   ]
  },
  {
   "cell_type": "code",
   "execution_count": null,
   "metadata": {
    "colab": {
     "base_uri": "https://localhost:8080/",
     "height": 762
    },
    "executionInfo": {
     "elapsed": 55,
     "status": "ok",
     "timestamp": 1759264629243,
     "user": {
      "displayName": "J-NEIL BAGAMASBAD",
      "userId": "03177234785450833391"
     },
     "user_tz": -480
    },
    "id": "_V5y_cQ6ri44",
    "outputId": "9600a3bf-e42e-4a5f-eb8d-8caca20549b0"
   },
   "outputs": [],
   "source": [
    "# Cutoffs for classifications\n",
    "def classify_per(x: float) -> str:\n",
    "    if pd.isna(x): return \"UNKNOWN\"\n",
    "    return \"STARTER\" if x >= 15 else (\"ROLEPLAYER\" if x >= 13 else \"BENCHWARMER\")\n",
    "\n",
    "def classify_dpm(x: float) -> str:\n",
    "    if pd.isna(x): return \"UNKNOWN\"\n",
    "    return \"STARTER\" if x >= 0 else (\"ROLEPLAYER\" if x >= -1 else \"BENCHWARMER\")\n",
    "\n",
    "df_pd['PER Classification'] = df_pd['PER'].apply(classify_per)\n",
    "df_pd['DPM Classification'] = df_pd['DPM'].apply(classify_dpm)\n",
    "\n",
    "# Preview + counts\n",
    "display(df_pd[['Player', 'PER', 'DPM', 'PER Classification', 'DPM Classification']].head(10))\n",
    "print(\"\\nPER Classification counts:\\n\", df_pd['PER Classification'].value_counts(dropna=False))\n",
    "print(\"\\nDPM Classification counts:\\n\", df_pd['DPM Classification'].value_counts(dropna=False))"
   ]
  },
  {
   "cell_type": "code",
   "execution_count": null,
   "metadata": {
    "colab": {
     "base_uri": "https://localhost:8080/",
     "height": 380
    },
    "executionInfo": {
     "elapsed": 656,
     "status": "ok",
     "timestamp": 1759264629904,
     "user": {
      "displayName": "J-NEIL BAGAMASBAD",
      "userId": "03177234785450833391"
     },
     "user_tz": -480
    },
    "id": "KPhPhmyau_KQ",
    "outputId": "8faaf9a0-7898-4da1-b329-f8612d7955a8"
   },
   "outputs": [],
   "source": [
    "ml_candidates = [\n",
    "    ANALYSIS_DIR / \"ML_Classification_Analysis_dataset.xlsx\",\n",
    "    ANALYSIS_DIR / \"ML_Classification_analysis_dataset.xlsx\",\n",
    "]\n",
    "ml_path = next((p for p in ml_candidates if p.exists()), None)\n",
    "if ml_path is None:\n",
    "    raise FileNotFoundError(\n",
    "        f\"Could not find ML results. Looked for:\\n- {ml_candidates[0]}\\n- {ml_candidates[1]}\"\n",
    "    )\n",
    "\n",
    "combined_out = ANALYSIS_DIR / \"Classification_Models_Analysis.xlsx\"\n",
    "\n",
    "# Load ML results\n",
    "ml_df = pd.read_excel(ml_path)\n",
    "\n",
    "# Normalize player names on both sides\n",
    "ml_df['Player'] = ml_df['Player'].astype(str).str.strip()\n",
    "df_pd['Player'] = df_pd['Player'].astype(str).str.strip()\n",
    "\n",
    "# Columns to append from the PER/DPM file\n",
    "per_dpm_cols = ['Player', 'PER Classification', 'DPM Classification']\n",
    "missing_cols = [c for c in per_dpm_cols if c not in df_pd.columns]\n",
    "if missing_cols:\n",
    "    raise KeyError(f\"Missing columns in PER/DPM frame: {missing_cols}\")\n",
    "\n",
    "# Inner-join on Player (drop anyone not present in both datasets)\n",
    "out_df = ml_df.merge(df_pd[per_dpm_cols], on='Player', how='inner')\n",
    "\n",
    "# Save\n",
    "out_df.to_excel(combined_out, index=False)\n",
    "print(f\"Combined analysis saved to: {combined_out}\")\n",
    "\n",
    "# Quick peek\n",
    "display(out_df.head(10))"
   ]
  },
  {
   "cell_type": "code",
   "execution_count": null,
   "metadata": {
    "colab": {
     "base_uri": "https://localhost:8080/",
     "height": 432
    },
    "executionInfo": {
     "elapsed": 1603,
     "status": "ok",
     "timestamp": 1759264631517,
     "user": {
      "displayName": "J-NEIL BAGAMASBAD",
      "userId": "03177234785450833391"
     },
     "user_tz": -480
    },
    "id": "PBljU1fv6LCi",
    "outputId": "8658a122-e327-4619-e8b5-3f3418f474dd"
   },
   "outputs": [],
   "source": [
    "# Append RANK SCORE (float) + classification; keep only intersecting players; put RANK_SCORE last\n",
    "\n",
    "rank_path = ANALYSIS_DIR / \"RANK_SCORE_analysis_dataset.xlsx\"\n",
    "if not rank_path.exists():\n",
    "    raise FileNotFoundError(f\"Could not find: {rank_path}\")\n",
    "\n",
    "# Load dataset\n",
    "rank_df = pd.read_excel(rank_path)\n",
    "rank_required = {\"Player\", \"RANK_SCORE\", \"Classification\"}\n",
    "missing_rank = rank_required - set(rank_df.columns)\n",
    "if missing_rank:\n",
    "    raise KeyError(f\"Missing required columns in RANK SCORE file: {sorted(missing_rank)}\")\n",
    "\n",
    "# Normalize + cast types\n",
    "rank_df[\"Player\"] = rank_df[\"Player\"].astype(str).str.strip()\n",
    "rank_df[\"RANK_SCORE\"] = pd.to_numeric(rank_df[\"RANK_SCORE\"], errors=\"coerce\")\n",
    "\n",
    "# If duplicates per player exist, keep the row with the highest RANK_SCORE\n",
    "rank_df = (\n",
    "    rank_df.sort_values(\"RANK_SCORE\", ascending=False)\n",
    "           .drop_duplicates(subset=\"Player\", keep=\"first\")\n",
    "           .rename(columns={\"Classification\": \"RANK SCORE Classification\"})\n",
    "           [[\"Player\", \"RANK_SCORE\", \"RANK SCORE Classification\"]]\n",
    ")\n",
    "\n",
    "# Ensure 'out_df' exists (ML + PER/DPM). If not, load the saved combined file.\n",
    "combined_out = ANALYSIS_DIR / \"Classification_Models_Analysis.xlsx\"\n",
    "if \"out_df\" not in globals():\n",
    "    if not combined_out.exists():\n",
    "        raise RuntimeError(\"Expected 'out_df' from the previous merge step; saved file not found. \"\n",
    "                           \"Please run the prior merge first.\")\n",
    "    out_df = pd.read_excel(combined_out)\n",
    "    out_df[\"Player\"] = out_df[\"Player\"].astype(str).str.strip()\n",
    "\n",
    "# Inner join to keep only players present in both (drops players missing from either file)\n",
    "final_combined = out_df.merge(rank_df, on=\"Player\", how=\"inner\")\n",
    "\n",
    "# Move RANK_SCORE to the rightmost column\n",
    "cols = [c for c in final_combined.columns if c != \"RANK_SCORE\"] + [\"RANK_SCORE\"]\n",
    "final_combined = final_combined[cols]\n",
    "\n",
    "# Save (overwrite)\n",
    "final_combined.to_excel(combined_out, index=False)\n",
    "print(f\"Updated combined analysis (with RANK SCORE) saved to: {combined_out}\")\n",
    "\n",
    "# Quick peek\n",
    "from IPython.display import display\n",
    "display(final_combined.head(10))"
   ]
  },
  {
   "cell_type": "code",
   "execution_count": null,
   "metadata": {
    "colab": {
     "base_uri": "https://localhost:8080/",
     "height": 487
    },
    "executionInfo": {
     "elapsed": 1107,
     "status": "ok",
     "timestamp": 1759264632634,
     "user": {
      "displayName": "J-NEIL BAGAMASBAD",
      "userId": "03177234785450833391"
     },
     "user_tz": -480
    },
    "id": "sB3dMoK9FyNo",
    "outputId": "ffdd36ec-421b-4ed3-f5b2-97a82cc2f19b"
   },
   "outputs": [],
   "source": [
    "# Confusion matrix: True Label vs RANK SCORE Classification\n",
    "# Clean + restrict to valid labels\n",
    "label_order = [\"STARTER\", \"ROLEPLAYER\", \"BENCHWARMER\"]\n",
    "df_cm = final_combined.copy()\n",
    "df_cm[\"True Label\"] = df_cm[\"True Label\"].astype(str).str.strip()\n",
    "df_cm[\"RANK SCORE Classification\"] = df_cm[\"RANK SCORE Classification\"].astype(str).str.strip()\n",
    "\n",
    "mask_valid = df_cm[\"True Label\"].isin(label_order) & df_cm[\"RANK SCORE Classification\"].isin(label_order)\n",
    "df_cm = df_cm.loc[mask_valid, [\"True Label\", \"RANK SCORE Classification\"]]\n",
    "\n",
    "# Confusion matrix (counts) with requested order\n",
    "cm = confusion_matrix(\n",
    "    df_cm[\"True Label\"],\n",
    "    df_cm[\"RANK SCORE Classification\"],\n",
    "    labels=label_order\n",
    ")\n",
    "\n",
    "# Plot the confusion matrix\n",
    "disp = ConfusionMatrixDisplay(confusion_matrix=cm, display_labels=label_order)\n",
    "fig, ax = plt.subplots()\n",
    "disp.plot(ax=ax, cmap='YlGnBu')\n",
    "ax.set_title(\"Confusion Matrix: True Label vs RANK SCORE Classification\")\n",
    "plt.tight_layout()\n",
    "plt.show()"
   ]
  },
  {
   "cell_type": "code",
   "execution_count": null,
   "metadata": {
    "executionInfo": {
     "elapsed": 42,
     "status": "ok",
     "timestamp": 1759264632679,
     "user": {
      "displayName": "J-NEIL BAGAMASBAD",
      "userId": "03177234785450833391"
     },
     "user_tz": -480
    },
    "id": "uEleX5UvHPPp"
   },
   "outputs": [],
   "source": [
    "# Work copy for evaluating thresholds\n",
    "dfw = final_combined.copy()\n",
    "dfw[\"True Label\"] = dfw[\"True Label\"].astype(str).str.strip()\n",
    "label_order = [\"STARTER\", \"ROLEPLAYER\", \"BENCHWARMER\"]\n",
    "dfw = dfw[dfw[\"True Label\"].isin(label_order)].copy()\n",
    "dfw = dfw[~dfw[\"RANK_SCORE\"].isna()].copy()\n",
    "\n",
    "# Define ROLEPLAYER range\n",
    "def classify_from_band(score, low, high):\n",
    "    # roleplayer band is [low, high)\n",
    "    if score >= high:\n",
    "        return \"STARTER\"\n",
    "    elif score < low:\n",
    "        return \"BENCHWARMER\"\n",
    "    else:\n",
    "        return \"ROLEPLAYER\"\n",
    "\n",
    "def apply_band(scores: pd.Series, low: float, high: float) -> pd.Series:\n",
    "    return scores.apply(lambda s: classify_from_band(s, low, high))"
   ]
  },
  {
   "cell_type": "code",
   "execution_count": null,
   "metadata": {
    "colab": {
     "base_uri": "https://localhost:8080/"
    },
    "executionInfo": {
     "elapsed": 3261,
     "status": "ok",
     "timestamp": 1759264635952,
     "user": {
      "displayName": "J-NEIL BAGAMASBAD",
      "userId": "03177234785450833391"
     },
     "user_tz": -480
    },
    "id": "apPH311JH-GZ",
    "outputId": "920ac801-61e4-46b1-8db9-09aaab22109b"
   },
   "outputs": [],
   "source": [
    "# ROLEPLAYER range search\n",
    "# Original range: [4, 5)\n",
    "# Allowed adjustments: low >= 3, high < 6, with low < high.\n",
    "s_min, s_max = dfw[\"RANK_SCORE\"].min(), dfw[\"RANK_SCORE\"].max()\n",
    "pad = max(0.25, 0.02 * (s_max - s_min))\n",
    "\n",
    "low_grid  = np.round(np.arange(max(3.0, s_min - pad), min(5.95, s_max + pad), 0.1), 3)\n",
    "high_grid = np.round(np.arange(max(4.05, s_min + 0.05), min(6.0,  s_max + pad), 0.1), 3)  # < 6.0\n",
    "\n",
    "# Fallbacks if empty\n",
    "if low_grid.size == 0:\n",
    "    low_grid = np.array([4.0])\n",
    "if high_grid.size == 0:\n",
    "    high_grid = np.array([5.0])\n",
    "\n",
    "y_true = dfw[\"True Label\"].values\n",
    "\n",
    "# Get max overall Accuracy\n",
    "best_acc = -1.0\n",
    "best_acc_pair = (4.0, 5.0)\n",
    "best_acc_pred = None\n",
    "\n",
    "# Get max F1 for ROLEPLAYER\n",
    "best_f1  = -1.0\n",
    "best_f1_pair = (4.0, 5.0)\n",
    "best_f1_pred = None\n",
    "\n",
    "for low in low_grid:\n",
    "    for high in high_grid:\n",
    "        if not (low < high):\n",
    "            continue\n",
    "        # Enforce constraints explicitly\n",
    "        if low < 3.0 or high >= 6.0:\n",
    "            continue\n",
    "\n",
    "        y_pred = apply_band(dfw[\"RANK_SCORE\"], low, high).values\n",
    "\n",
    "        # Accuracy\n",
    "        acc = (y_pred == y_true).mean()\n",
    "\n",
    "        # F1 for ROLEPLAYER (one-vs-rest)\n",
    "        y_true_bin = (y_true == \"ROLEPLAYER\").astype(int)\n",
    "        y_pred_bin = (y_pred == \"ROLEPLAYER\").astype(int)\n",
    "        f1 = f1_score(y_true_bin, y_pred_bin, zero_division=0)\n",
    "\n",
    "        if acc > best_acc:\n",
    "            best_acc, best_acc_pair, best_acc_pred = acc, (low, high), y_pred\n",
    "\n",
    "        if f1 > best_f1:\n",
    "            best_f1, best_f1_pair, best_f1_pred = f1, (low, high), y_pred\n",
    "\n",
    "print(f\"Best Accuracy: {best_acc:.4f} @ ROLEPLAYER band [low, high) = {best_acc_pair}\")\n",
    "print(f\"Best ROLEPLAYER F1: {best_f1:.4f} @ ROLEPLAYER band [low, high) = {best_f1_pair}\")"
   ]
  },
  {
   "cell_type": "code",
   "execution_count": null,
   "metadata": {
    "colab": {
     "base_uri": "https://localhost:8080/"
    },
    "executionInfo": {
     "elapsed": 293,
     "status": "ok",
     "timestamp": 1759264636245,
     "user": {
      "displayName": "J-NEIL BAGAMASBAD",
      "userId": "03177234785450833391"
     },
     "user_tz": -480
    },
    "id": "p2SRHJSlIZZD",
    "outputId": "64c00bb9-34a9-4601-a5e7-2c2045ef2ab8"
   },
   "outputs": [],
   "source": [
    "\n",
    "# Add adjusted classifications to the dataset\n",
    "def classify_series(scores: pd.Series, pair):\n",
    "    low, high = pair\n",
    "    return scores.apply(lambda s: classify_from_band(s, low, high) if pd.notna(s) else np.nan)\n",
    "\n",
    "final_combined[\"RS Classification (ACC Adj)\"]     = classify_series(final_combined[\"RANK_SCORE\"], best_acc_pair)\n",
    "final_combined[\"RS Classification (F-SCORE Adj)\"] = classify_series(final_combined[\"RANK_SCORE\"], best_f1_pair)\n",
    "\n",
    "# Drop RANK_SCORE\n",
    "final_combined = final_combined.drop(columns=[\"RANK_SCORE\"], errors=\"ignore\")\n",
    "\n",
    "# Save back to dataset\n",
    "final_combined.to_excel(combined_out, index=False)\n",
    "print(f\"\\nAdded adjusted classification columns, dropped 'RANK_SCORE', and saved to: {combined_out}\")"
   ]
  },
  {
   "cell_type": "code",
   "execution_count": null,
   "metadata": {
    "colab": {
     "base_uri": "https://localhost:8080/",
     "height": 487
    },
    "executionInfo": {
     "elapsed": 423,
     "status": "ok",
     "timestamp": 1759264636675,
     "user": {
      "displayName": "J-NEIL BAGAMASBAD",
      "userId": "03177234785450833391"
     },
     "user_tz": -480
    },
    "id": "6II_4S63IlkZ",
    "outputId": "ec6d1b14-61a7-4854-82c9-c08f070f16f5"
   },
   "outputs": [],
   "source": [
    "# --- Confusion matrices (ordered: STARTER, ROLEPLAYER, BENCHWARMER) ---\n",
    "def show_confusion(df, pred_col, title_suffix):\n",
    "    sub = df.copy()\n",
    "    sub = sub[sub[\"True Label\"].isin(label_order)]\n",
    "    sub = sub[sub[pred_col].isin(label_order)]\n",
    "    y_t = sub[\"True Label\"].values\n",
    "    y_p = sub[pred_col].values\n",
    "\n",
    "    cm = confusion_matrix(y_t, y_p, labels=label_order)\n",
    "    disp = ConfusionMatrixDisplay(confusion_matrix=cm, display_labels=label_order)\n",
    "    fig, ax = plt.subplots()\n",
    "    disp.plot(ax=ax, cmap='YlGnBu')\n",
    "    ax.set_title(f\"Confusion Matrix: True vs {title_suffix}\")\n",
    "    plt.tight_layout()\n",
    "    plt.show()\n",
    "\n",
    "show_confusion(final_combined, \"RS Classification (ACC Adj)\", \"RS Classification (ACC Adj)\")"
   ]
  },
  {
   "cell_type": "code",
   "execution_count": null,
   "metadata": {
    "colab": {
     "base_uri": "https://localhost:8080/",
     "height": 487
    },
    "executionInfo": {
     "elapsed": 380,
     "status": "ok",
     "timestamp": 1759264637056,
     "user": {
      "displayName": "J-NEIL BAGAMASBAD",
      "userId": "03177234785450833391"
     },
     "user_tz": -480
    },
    "id": "Ao5d6UTvItz_",
    "outputId": "c68f8ab0-0394-4b53-d621-bcffed731551"
   },
   "outputs": [],
   "source": [
    "show_confusion(final_combined, \"RS Classification (F-SCORE Adj)\", \"RS Classification (F-SCORE Adj)\")"
   ]
  },
  {
   "cell_type": "code",
   "execution_count": null,
   "metadata": {
    "colab": {
     "base_uri": "https://localhost:8080/",
     "height": 432
    },
    "executionInfo": {
     "elapsed": 59,
     "status": "ok",
     "timestamp": 1759264637117,
     "user": {
      "displayName": "J-NEIL BAGAMASBAD",
      "userId": "03177234785450833391"
     },
     "user_tz": -480
    },
    "id": "iQgklahbJ9MS",
    "outputId": "82c6057e-252c-4a5d-e725-d9fa28658331"
   },
   "outputs": [],
   "source": [
    "display(final_combined.head(10))"
   ]
  },
  {
   "cell_type": "code",
   "execution_count": null,
   "metadata": {
    "executionInfo": {
     "elapsed": 26,
     "status": "ok",
     "timestamp": 1759264637149,
     "user": {
      "displayName": "J-NEIL BAGAMASBAD",
      "userId": "03177234785450833391"
     },
     "user_tz": -480
    },
    "id": "uy3G6P8mLgmz"
   },
   "outputs": [],
   "source": [
    "df = final_combined.copy()\n",
    "\n",
    "columns_to_compare = [\n",
    "    \"True Label\",\n",
    "    \"KNN Prediction\",\n",
    "    \"Decision Tree Prediction\",\n",
    "    \"Naive Bayes Prediction\",\n",
    "    \"RS Classification (ACC Adj)\",\n",
    "    \"RS Classification (F-SCORE Adj)\",\n",
    "    \"RANK SCORE Classification\",\n",
    "    \"DPM Classification\",\n",
    "    \"PER Classification\",\n",
    "]\n",
    "\n",
    "# Keep only columns that actually exist\n",
    "available_cols = [c for c in columns_to_compare if c in df.columns]\n",
    "missing_cols   = [c for c in columns_to_compare if c not in df.columns]\n",
    "if missing_cols:\n",
    "    print(\"Note: missing from dataset and skipped ->\", missing_cols)"
   ]
  },
  {
   "cell_type": "code",
   "execution_count": null,
   "metadata": {
    "executionInfo": {
     "elapsed": 312,
     "status": "ok",
     "timestamp": 1759264637466,
     "user": {
      "displayName": "J-NEIL BAGAMASBAD",
      "userId": "03177234785450833391"
     },
     "user_tz": -480
    },
    "id": "Pc6AgBAyMPYi"
   },
   "outputs": [],
   "source": [
    "# --- Build agreement matrix (pairwise % agreement, ignoring rows with NaNs in either column) ---\n",
    "agreement_matrix = pd.DataFrame(index=available_cols, columns=available_cols, dtype=float)\n",
    "\n",
    "for col1 in available_cols:\n",
    "    for col2 in available_cols:\n",
    "        mask = df[col1].notna() & df[col2].notna()\n",
    "        denom = mask.sum()\n",
    "        if denom == 0:\n",
    "            agreement_matrix.loc[col1, col2] = np.nan\n",
    "        else:\n",
    "            matches = (df.loc[mask, col1] == df.loc[mask, col2]).sum()\n",
    "            agreement_matrix.loc[col1, col2] = 100.0 * matches / denom"
   ]
  },
  {
   "cell_type": "code",
   "execution_count": null,
   "metadata": {
    "colab": {
     "base_uri": "https://localhost:8080/",
     "height": 807
    },
    "executionInfo": {
     "elapsed": 1325,
     "status": "ok",
     "timestamp": 1759264638798,
     "user": {
      "displayName": "J-NEIL BAGAMASBAD",
      "userId": "03177234785450833391"
     },
     "user_tz": -480
    },
    "id": "665E4HgHMRky",
    "outputId": "5450f44f-a185-4e38-ca54-607218a37de6"
   },
   "outputs": [],
   "source": [
    "# --- Show heatmap ---\n",
    "plt.figure(figsize=(12, 8))\n",
    "sns.heatmap(agreement_matrix, annot=True, fmt=\".2f\", cmap=\"YlGnBu\", cbar=True)\n",
    "plt.title(\"Agreement Heatmap Across Classification Systems (%)\")\n",
    "plt.xticks(rotation=45, ha=\"right\")\n",
    "plt.yticks(rotation=0)\n",
    "plt.tight_layout()\n",
    "plt.show()"
   ]
  }
 ],
 "metadata": {
  "colab": {
   "authorship_tag": "ABX9TyODFAtIRPoYvlXBUcwFRRD6",
   "provenance": []
  },
  "kernelspec": {
   "display_name": "Python 3 (ipykernel)",
   "language": "python",
   "name": "python3"
  },
  "language_info": {
   "codemirror_mode": {
    "name": "ipython",
    "version": 3
   },
   "file_extension": ".py",
   "mimetype": "text/x-python",
   "name": "python",
   "nbconvert_exporter": "python",
   "pygments_lexer": "ipython3",
   "version": "3.10.9"
  }
 },
 "nbformat": 4,
 "nbformat_minor": 1
}
