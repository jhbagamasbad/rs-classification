{
 "cells": [
  {
   "cell_type": "code",
   "execution_count": 1,
   "metadata": {
    "colab": {
     "base_uri": "https://localhost:8080/"
    },
    "execution": {
     "iopub.execute_input": "2025-10-01T20:15:50.675490Z",
     "iopub.status.busy": "2025-10-01T20:15:50.673972Z",
     "iopub.status.idle": "2025-10-01T20:15:53.437261Z",
     "shell.execute_reply": "2025-10-01T20:15:53.436341Z"
    },
    "executionInfo": {
     "elapsed": 14266,
     "status": "ok",
     "timestamp": 1759256563640,
     "user": {
      "displayName": "J-NEIL BAGAMASBAD",
      "userId": "03177234785450833391"
     },
     "user_tz": -480
    },
    "id": "vAORXLzUh0Kt",
    "outputId": "0cb08080-6fac-4144-8292-a55cbe3ec598"
   },
   "outputs": [],
   "source": [
    "from pathlib import Path\n",
    "import pandas as pd\n",
    "import numpy as np\n",
    "import re\n",
    "import os\n",
    "import sys\n",
    "sys.path.insert(0, str(Path.cwd().resolve().parent))  # add repo root to sys.path\n",
    "\n",
    "from project_paths import (\n",
    "    RAW_DIR, EDITED_DIR, FINAL_DIR, ANALYSIS_DIR, TEMP_DIR, DATA_DIR, ROOKIES_PATH\n",
    ")\n",
    "\n",
    "from sklearn.preprocessing import LabelEncoder\n",
    "from sklearn.metrics import confusion_matrix, ConfusionMatrixDisplay, classification_report\n",
    "from sklearn.model_selection import GridSearchCV\n",
    "from sklearn.neighbors import KNeighborsClassifier\n",
    "from sklearn import tree\n",
    "from sklearn.naive_bayes import GaussianNB\n",
    "import matplotlib.pyplot as plt\n",
    "\n",
    "BASE_DIR = DATA_DIR\n",
    "ANALYSIS_DIR = ANALYSIS_DIR\n",
    "\n",
    "# Load the input file (we will be creating a copy of the RANK SCORE full grid dataset for the test-train split)\n",
    "rs_grid_path = ANALYSIS_DIR / \"RANK_SCORE_full_grid.xlsx\"\n",
    "df = pd.read_excel(rs_grid_path)"
   ]
  },
  {
   "cell_type": "code",
   "execution_count": 2,
   "metadata": {
    "colab": {
     "base_uri": "https://localhost:8080/"
    },
    "execution": {
     "iopub.execute_input": "2025-10-01T20:15:53.440261Z",
     "iopub.status.busy": "2025-10-01T20:15:53.440261Z",
     "iopub.status.idle": "2025-10-01T20:15:53.452899Z",
     "shell.execute_reply": "2025-10-01T20:15:53.451894Z"
    },
    "executionInfo": {
     "elapsed": 17,
     "status": "ok",
     "timestamp": 1759256563658,
     "user": {
      "displayName": "J-NEIL BAGAMASBAD",
      "userId": "03177234785450833391"
     },
     "user_tz": -480
    },
    "id": "wtN40Y28loJJ",
    "outputId": "1012862c-301d-4ba1-8421-b14710621023"
   },
   "outputs": [
    {
     "name": "stdout",
     "output_type": "stream",
     "text": [
      "Dropped columns: ['FG%_RS', '3P_RS', 'FT%_RS', 'TRB_RS', 'AST_RS', 'STL_RS', 'BLK_RS', 'TOV_RS', 'PTS_RS', 'RANK_SCORE', 'Age', 'OLD', 'NEW', 'Pos1', 'Pos2', 'Player_Role']\n",
      "Remaining columns (first 20): ['Season', 'Player', 'G', 'GS', 'MP', 'FG%', '3P', 'FT%', 'TRB', 'AST', 'STL', 'BLK', 'TOV', 'PTS']\n"
     ]
    }
   ],
   "source": [
    "# Identify & drop Rank Score columns: *_RS and exact RANK_SCORE, plus Player_Role\n",
    "pattern = re.compile(r'(?:_RS$)|(?:^RANK_SCORE$)', flags=re.IGNORECASE)\n",
    "rankscore_cols = [c for c in df.columns if pattern.search(c)]\n",
    "\n",
    "extra_drop = ['Age', 'OLD', 'NEW', 'Pos1', 'Pos2', 'Player_Role']  # drop this too if present\n",
    "to_drop = rankscore_cols + [c for c in extra_drop if c in df.columns]\n",
    "\n",
    "df_ml = df.drop(columns=to_drop, errors='ignore')\n",
    "\n",
    "print(\"Dropped columns:\", to_drop)\n",
    "print(\"Remaining columns (first 20):\", list(df_ml.columns)[:20])"
   ]
  },
  {
   "cell_type": "code",
   "execution_count": 3,
   "metadata": {
    "colab": {
     "base_uri": "https://localhost:8080/",
     "height": 363
    },
    "execution": {
     "iopub.execute_input": "2025-10-01T20:15:53.454976Z",
     "iopub.status.busy": "2025-10-01T20:15:53.454976Z",
     "iopub.status.idle": "2025-10-01T20:15:53.500238Z",
     "shell.execute_reply": "2025-10-01T20:15:53.498717Z"
    },
    "executionInfo": {
     "elapsed": 256,
     "status": "ok",
     "timestamp": 1759256563916,
     "user": {
      "displayName": "J-NEIL BAGAMASBAD",
      "userId": "03177234785450833391"
     },
     "user_tz": -480
    },
    "id": "-RGY4ZPCow35",
    "outputId": "9a8acb39-1f2a-4eb9-b111-116706f84725"
   },
   "outputs": [
    {
     "data": {
      "text/html": [
       "<div>\n",
       "<style scoped>\n",
       "    .dataframe tbody tr th:only-of-type {\n",
       "        vertical-align: middle;\n",
       "    }\n",
       "\n",
       "    .dataframe tbody tr th {\n",
       "        vertical-align: top;\n",
       "    }\n",
       "\n",
       "    .dataframe thead th {\n",
       "        text-align: right;\n",
       "    }\n",
       "</style>\n",
       "<table border=\"1\" class=\"dataframe\">\n",
       "  <thead>\n",
       "    <tr style=\"text-align: right;\">\n",
       "      <th></th>\n",
       "      <th>Season</th>\n",
       "      <th>Player</th>\n",
       "      <th>G</th>\n",
       "      <th>GS</th>\n",
       "      <th>MP</th>\n",
       "      <th>FG%</th>\n",
       "      <th>3P</th>\n",
       "      <th>FT%</th>\n",
       "      <th>TRB</th>\n",
       "      <th>AST</th>\n",
       "      <th>STL</th>\n",
       "      <th>BLK</th>\n",
       "      <th>TOV</th>\n",
       "      <th>PTS</th>\n",
       "    </tr>\n",
       "  </thead>\n",
       "  <tbody>\n",
       "    <tr>\n",
       "      <th>2295</th>\n",
       "      <td>2022-2023</td>\n",
       "      <td>ŠARIĆ, Dario</td>\n",
       "      <td>57.0</td>\n",
       "      <td>12.0</td>\n",
       "      <td>14.1</td>\n",
       "      <td>0.458</td>\n",
       "      <td>0.8</td>\n",
       "      <td>0.829</td>\n",
       "      <td>3.6</td>\n",
       "      <td>1.3</td>\n",
       "      <td>0.4</td>\n",
       "      <td>0.1</td>\n",
       "      <td>1.0</td>\n",
       "      <td>6.4</td>\n",
       "    </tr>\n",
       "    <tr>\n",
       "      <th>3363</th>\n",
       "      <td>2021-2022</td>\n",
       "      <td>ŠARIĆ, Dario</td>\n",
       "      <td>NaN</td>\n",
       "      <td>NaN</td>\n",
       "      <td>NaN</td>\n",
       "      <td>NaN</td>\n",
       "      <td>NaN</td>\n",
       "      <td>NaN</td>\n",
       "      <td>NaN</td>\n",
       "      <td>NaN</td>\n",
       "      <td>NaN</td>\n",
       "      <td>NaN</td>\n",
       "      <td>NaN</td>\n",
       "      <td>NaN</td>\n",
       "    </tr>\n",
       "    <tr>\n",
       "      <th>4431</th>\n",
       "      <td>2020-2021</td>\n",
       "      <td>ŠARIĆ, Dario</td>\n",
       "      <td>50.0</td>\n",
       "      <td>4.0</td>\n",
       "      <td>17.4</td>\n",
       "      <td>0.447</td>\n",
       "      <td>0.9</td>\n",
       "      <td>0.848</td>\n",
       "      <td>3.8</td>\n",
       "      <td>1.3</td>\n",
       "      <td>0.6</td>\n",
       "      <td>0.1</td>\n",
       "      <td>1.1</td>\n",
       "      <td>8.7</td>\n",
       "    </tr>\n",
       "    <tr>\n",
       "      <th>5499</th>\n",
       "      <td>2019-2020</td>\n",
       "      <td>ŠARIĆ, Dario</td>\n",
       "      <td>66.0</td>\n",
       "      <td>51.0</td>\n",
       "      <td>24.7</td>\n",
       "      <td>0.476</td>\n",
       "      <td>1.3</td>\n",
       "      <td>0.844</td>\n",
       "      <td>6.2</td>\n",
       "      <td>1.9</td>\n",
       "      <td>0.6</td>\n",
       "      <td>0.2</td>\n",
       "      <td>1.3</td>\n",
       "      <td>10.7</td>\n",
       "    </tr>\n",
       "    <tr>\n",
       "      <th>386</th>\n",
       "      <td>2024-2025</td>\n",
       "      <td>ŽIŽIĆ, Ante</td>\n",
       "      <td>NaN</td>\n",
       "      <td>NaN</td>\n",
       "      <td>NaN</td>\n",
       "      <td>NaN</td>\n",
       "      <td>NaN</td>\n",
       "      <td>NaN</td>\n",
       "      <td>NaN</td>\n",
       "      <td>NaN</td>\n",
       "      <td>NaN</td>\n",
       "      <td>NaN</td>\n",
       "      <td>NaN</td>\n",
       "      <td>NaN</td>\n",
       "    </tr>\n",
       "    <tr>\n",
       "      <th>1454</th>\n",
       "      <td>2023-2024</td>\n",
       "      <td>ŽIŽIĆ, Ante</td>\n",
       "      <td>NaN</td>\n",
       "      <td>NaN</td>\n",
       "      <td>NaN</td>\n",
       "      <td>NaN</td>\n",
       "      <td>NaN</td>\n",
       "      <td>NaN</td>\n",
       "      <td>NaN</td>\n",
       "      <td>NaN</td>\n",
       "      <td>NaN</td>\n",
       "      <td>NaN</td>\n",
       "      <td>NaN</td>\n",
       "      <td>NaN</td>\n",
       "    </tr>\n",
       "    <tr>\n",
       "      <th>2522</th>\n",
       "      <td>2022-2023</td>\n",
       "      <td>ŽIŽIĆ, Ante</td>\n",
       "      <td>NaN</td>\n",
       "      <td>NaN</td>\n",
       "      <td>NaN</td>\n",
       "      <td>NaN</td>\n",
       "      <td>NaN</td>\n",
       "      <td>NaN</td>\n",
       "      <td>NaN</td>\n",
       "      <td>NaN</td>\n",
       "      <td>NaN</td>\n",
       "      <td>NaN</td>\n",
       "      <td>NaN</td>\n",
       "      <td>NaN</td>\n",
       "    </tr>\n",
       "    <tr>\n",
       "      <th>3590</th>\n",
       "      <td>2021-2022</td>\n",
       "      <td>ŽIŽIĆ, Ante</td>\n",
       "      <td>NaN</td>\n",
       "      <td>NaN</td>\n",
       "      <td>NaN</td>\n",
       "      <td>NaN</td>\n",
       "      <td>NaN</td>\n",
       "      <td>NaN</td>\n",
       "      <td>NaN</td>\n",
       "      <td>NaN</td>\n",
       "      <td>NaN</td>\n",
       "      <td>NaN</td>\n",
       "      <td>NaN</td>\n",
       "      <td>NaN</td>\n",
       "    </tr>\n",
       "    <tr>\n",
       "      <th>4658</th>\n",
       "      <td>2020-2021</td>\n",
       "      <td>ŽIŽIĆ, Ante</td>\n",
       "      <td>NaN</td>\n",
       "      <td>NaN</td>\n",
       "      <td>NaN</td>\n",
       "      <td>NaN</td>\n",
       "      <td>NaN</td>\n",
       "      <td>NaN</td>\n",
       "      <td>NaN</td>\n",
       "      <td>NaN</td>\n",
       "      <td>NaN</td>\n",
       "      <td>NaN</td>\n",
       "      <td>NaN</td>\n",
       "      <td>NaN</td>\n",
       "    </tr>\n",
       "    <tr>\n",
       "      <th>5726</th>\n",
       "      <td>2019-2020</td>\n",
       "      <td>ŽIŽIĆ, Ante</td>\n",
       "      <td>22.0</td>\n",
       "      <td>0.0</td>\n",
       "      <td>10.0</td>\n",
       "      <td>0.569</td>\n",
       "      <td>0.0</td>\n",
       "      <td>0.737</td>\n",
       "      <td>3.0</td>\n",
       "      <td>0.3</td>\n",
       "      <td>0.3</td>\n",
       "      <td>0.2</td>\n",
       "      <td>0.5</td>\n",
       "      <td>4.4</td>\n",
       "    </tr>\n",
       "  </tbody>\n",
       "</table>\n",
       "</div>"
      ],
      "text/plain": [
       "         Season        Player     G    GS    MP    FG%   3P    FT%  TRB  AST  \\\n",
       "2295  2022-2023  ŠARIĆ, Dario  57.0  12.0  14.1  0.458  0.8  0.829  3.6  1.3   \n",
       "3363  2021-2022  ŠARIĆ, Dario   NaN   NaN   NaN    NaN  NaN    NaN  NaN  NaN   \n",
       "4431  2020-2021  ŠARIĆ, Dario  50.0   4.0  17.4  0.447  0.9  0.848  3.8  1.3   \n",
       "5499  2019-2020  ŠARIĆ, Dario  66.0  51.0  24.7  0.476  1.3  0.844  6.2  1.9   \n",
       "386   2024-2025   ŽIŽIĆ, Ante   NaN   NaN   NaN    NaN  NaN    NaN  NaN  NaN   \n",
       "1454  2023-2024   ŽIŽIĆ, Ante   NaN   NaN   NaN    NaN  NaN    NaN  NaN  NaN   \n",
       "2522  2022-2023   ŽIŽIĆ, Ante   NaN   NaN   NaN    NaN  NaN    NaN  NaN  NaN   \n",
       "3590  2021-2022   ŽIŽIĆ, Ante   NaN   NaN   NaN    NaN  NaN    NaN  NaN  NaN   \n",
       "4658  2020-2021   ŽIŽIĆ, Ante   NaN   NaN   NaN    NaN  NaN    NaN  NaN  NaN   \n",
       "5726  2019-2020   ŽIŽIĆ, Ante  22.0   0.0  10.0  0.569  0.0  0.737  3.0  0.3   \n",
       "\n",
       "      STL  BLK  TOV   PTS  \n",
       "2295  0.4  0.1  1.0   6.4  \n",
       "3363  NaN  NaN  NaN   NaN  \n",
       "4431  0.6  0.1  1.1   8.7  \n",
       "5499  0.6  0.2  1.3  10.7  \n",
       "386   NaN  NaN  NaN   NaN  \n",
       "1454  NaN  NaN  NaN   NaN  \n",
       "2522  NaN  NaN  NaN   NaN  \n",
       "3590  NaN  NaN  NaN   NaN  \n",
       "4658  NaN  NaN  NaN   NaN  \n",
       "5726  0.3  0.2  0.5   4.4  "
      ]
     },
     "execution_count": 3,
     "metadata": {},
     "output_type": "execute_result"
    }
   ],
   "source": [
    "# Normalize 'Season' text\n",
    "df_ml['Season'] = df_ml['Season'].astype(str).str.strip()\n",
    "\n",
    "# Extract start year and sort Player ASC, SeasonStart DESC\n",
    "def season_start_year(season: str) -> int:\n",
    "    m = re.match(r'^\\s*(\\d{4})-(\\d{4})\\s*$', season)\n",
    "    return int(m.group(1)) if m else -10**9  # push malformed to the bottom\n",
    "\n",
    "df_ml['_SeasonStart'] = df_ml['Season'].apply(season_start_year)\n",
    "df_ml.sort_values(by=['Player', '_SeasonStart'], ascending=[True, False], inplace=True)\n",
    "\n",
    "df_ml.drop(columns=['_SeasonStart'], inplace=True)\n",
    "\n",
    "df_ml.tail(10)"
   ]
  },
  {
   "cell_type": "code",
   "execution_count": 4,
   "metadata": {
    "colab": {
     "base_uri": "https://localhost:8080/",
     "height": 363
    },
    "execution": {
     "iopub.execute_input": "2025-10-01T20:15:53.502843Z",
     "iopub.status.busy": "2025-10-01T20:15:53.501835Z",
     "iopub.status.idle": "2025-10-01T20:15:53.546403Z",
     "shell.execute_reply": "2025-10-01T20:15:53.545290Z"
    },
    "executionInfo": {
     "elapsed": 151,
     "status": "ok",
     "timestamp": 1759256564069,
     "user": {
      "displayName": "J-NEIL BAGAMASBAD",
      "userId": "03177234785450833391"
     },
     "user_tz": -480
    },
    "id": "FLv5Hf4XwWXB",
    "outputId": "2aac5a88-5255-42bf-eb09-0a81dd5a168d"
   },
   "outputs": [
    {
     "data": {
      "text/html": [
       "<div>\n",
       "<style scoped>\n",
       "    .dataframe tbody tr th:only-of-type {\n",
       "        vertical-align: middle;\n",
       "    }\n",
       "\n",
       "    .dataframe tbody tr th {\n",
       "        vertical-align: top;\n",
       "    }\n",
       "\n",
       "    .dataframe thead th {\n",
       "        text-align: right;\n",
       "    }\n",
       "</style>\n",
       "<table border=\"1\" class=\"dataframe\">\n",
       "  <thead>\n",
       "    <tr style=\"text-align: right;\">\n",
       "      <th></th>\n",
       "      <th>Season</th>\n",
       "      <th>Player</th>\n",
       "      <th>G</th>\n",
       "      <th>GS</th>\n",
       "      <th>MP</th>\n",
       "      <th>FG%</th>\n",
       "      <th>3P</th>\n",
       "      <th>FT%</th>\n",
       "      <th>TRB</th>\n",
       "      <th>AST</th>\n",
       "      <th>STL</th>\n",
       "      <th>BLK</th>\n",
       "      <th>TOV</th>\n",
       "      <th>PTS</th>\n",
       "      <th>CLASSIFICATION</th>\n",
       "    </tr>\n",
       "  </thead>\n",
       "  <tbody>\n",
       "    <tr>\n",
       "      <th>2295</th>\n",
       "      <td>2022-2023</td>\n",
       "      <td>ŠARIĆ, Dario</td>\n",
       "      <td>57.0</td>\n",
       "      <td>12.0</td>\n",
       "      <td>14.1</td>\n",
       "      <td>0.458</td>\n",
       "      <td>0.8</td>\n",
       "      <td>0.829</td>\n",
       "      <td>3.6</td>\n",
       "      <td>1.3</td>\n",
       "      <td>0.4</td>\n",
       "      <td>0.1</td>\n",
       "      <td>1.0</td>\n",
       "      <td>6.4</td>\n",
       "      <td>BENCHWARMER</td>\n",
       "    </tr>\n",
       "    <tr>\n",
       "      <th>3363</th>\n",
       "      <td>2021-2022</td>\n",
       "      <td>ŠARIĆ, Dario</td>\n",
       "      <td>NaN</td>\n",
       "      <td>NaN</td>\n",
       "      <td>NaN</td>\n",
       "      <td>NaN</td>\n",
       "      <td>NaN</td>\n",
       "      <td>NaN</td>\n",
       "      <td>NaN</td>\n",
       "      <td>NaN</td>\n",
       "      <td>NaN</td>\n",
       "      <td>NaN</td>\n",
       "      <td>NaN</td>\n",
       "      <td>NaN</td>\n",
       "      <td>DNP</td>\n",
       "    </tr>\n",
       "    <tr>\n",
       "      <th>4431</th>\n",
       "      <td>2020-2021</td>\n",
       "      <td>ŠARIĆ, Dario</td>\n",
       "      <td>50.0</td>\n",
       "      <td>4.0</td>\n",
       "      <td>17.4</td>\n",
       "      <td>0.447</td>\n",
       "      <td>0.9</td>\n",
       "      <td>0.848</td>\n",
       "      <td>3.8</td>\n",
       "      <td>1.3</td>\n",
       "      <td>0.6</td>\n",
       "      <td>0.1</td>\n",
       "      <td>1.1</td>\n",
       "      <td>8.7</td>\n",
       "      <td>ROLEPLAYER</td>\n",
       "    </tr>\n",
       "    <tr>\n",
       "      <th>5499</th>\n",
       "      <td>2019-2020</td>\n",
       "      <td>ŠARIĆ, Dario</td>\n",
       "      <td>66.0</td>\n",
       "      <td>51.0</td>\n",
       "      <td>24.7</td>\n",
       "      <td>0.476</td>\n",
       "      <td>1.3</td>\n",
       "      <td>0.844</td>\n",
       "      <td>6.2</td>\n",
       "      <td>1.9</td>\n",
       "      <td>0.6</td>\n",
       "      <td>0.2</td>\n",
       "      <td>1.3</td>\n",
       "      <td>10.7</td>\n",
       "      <td>STARTER</td>\n",
       "    </tr>\n",
       "    <tr>\n",
       "      <th>386</th>\n",
       "      <td>2024-2025</td>\n",
       "      <td>ŽIŽIĆ, Ante</td>\n",
       "      <td>NaN</td>\n",
       "      <td>NaN</td>\n",
       "      <td>NaN</td>\n",
       "      <td>NaN</td>\n",
       "      <td>NaN</td>\n",
       "      <td>NaN</td>\n",
       "      <td>NaN</td>\n",
       "      <td>NaN</td>\n",
       "      <td>NaN</td>\n",
       "      <td>NaN</td>\n",
       "      <td>NaN</td>\n",
       "      <td>NaN</td>\n",
       "      <td>DNP</td>\n",
       "    </tr>\n",
       "    <tr>\n",
       "      <th>1454</th>\n",
       "      <td>2023-2024</td>\n",
       "      <td>ŽIŽIĆ, Ante</td>\n",
       "      <td>NaN</td>\n",
       "      <td>NaN</td>\n",
       "      <td>NaN</td>\n",
       "      <td>NaN</td>\n",
       "      <td>NaN</td>\n",
       "      <td>NaN</td>\n",
       "      <td>NaN</td>\n",
       "      <td>NaN</td>\n",
       "      <td>NaN</td>\n",
       "      <td>NaN</td>\n",
       "      <td>NaN</td>\n",
       "      <td>NaN</td>\n",
       "      <td>DNP</td>\n",
       "    </tr>\n",
       "    <tr>\n",
       "      <th>2522</th>\n",
       "      <td>2022-2023</td>\n",
       "      <td>ŽIŽIĆ, Ante</td>\n",
       "      <td>NaN</td>\n",
       "      <td>NaN</td>\n",
       "      <td>NaN</td>\n",
       "      <td>NaN</td>\n",
       "      <td>NaN</td>\n",
       "      <td>NaN</td>\n",
       "      <td>NaN</td>\n",
       "      <td>NaN</td>\n",
       "      <td>NaN</td>\n",
       "      <td>NaN</td>\n",
       "      <td>NaN</td>\n",
       "      <td>NaN</td>\n",
       "      <td>DNP</td>\n",
       "    </tr>\n",
       "    <tr>\n",
       "      <th>3590</th>\n",
       "      <td>2021-2022</td>\n",
       "      <td>ŽIŽIĆ, Ante</td>\n",
       "      <td>NaN</td>\n",
       "      <td>NaN</td>\n",
       "      <td>NaN</td>\n",
       "      <td>NaN</td>\n",
       "      <td>NaN</td>\n",
       "      <td>NaN</td>\n",
       "      <td>NaN</td>\n",
       "      <td>NaN</td>\n",
       "      <td>NaN</td>\n",
       "      <td>NaN</td>\n",
       "      <td>NaN</td>\n",
       "      <td>NaN</td>\n",
       "      <td>DNP</td>\n",
       "    </tr>\n",
       "    <tr>\n",
       "      <th>4658</th>\n",
       "      <td>2020-2021</td>\n",
       "      <td>ŽIŽIĆ, Ante</td>\n",
       "      <td>NaN</td>\n",
       "      <td>NaN</td>\n",
       "      <td>NaN</td>\n",
       "      <td>NaN</td>\n",
       "      <td>NaN</td>\n",
       "      <td>NaN</td>\n",
       "      <td>NaN</td>\n",
       "      <td>NaN</td>\n",
       "      <td>NaN</td>\n",
       "      <td>NaN</td>\n",
       "      <td>NaN</td>\n",
       "      <td>NaN</td>\n",
       "      <td>DNP</td>\n",
       "    </tr>\n",
       "    <tr>\n",
       "      <th>5726</th>\n",
       "      <td>2019-2020</td>\n",
       "      <td>ŽIŽIĆ, Ante</td>\n",
       "      <td>22.0</td>\n",
       "      <td>0.0</td>\n",
       "      <td>10.0</td>\n",
       "      <td>0.569</td>\n",
       "      <td>0.0</td>\n",
       "      <td>0.737</td>\n",
       "      <td>3.0</td>\n",
       "      <td>0.3</td>\n",
       "      <td>0.3</td>\n",
       "      <td>0.2</td>\n",
       "      <td>0.5</td>\n",
       "      <td>4.4</td>\n",
       "      <td>BENCHWARMER</td>\n",
       "    </tr>\n",
       "  </tbody>\n",
       "</table>\n",
       "</div>"
      ],
      "text/plain": [
       "         Season        Player     G    GS    MP    FG%   3P    FT%  TRB  AST  \\\n",
       "2295  2022-2023  ŠARIĆ, Dario  57.0  12.0  14.1  0.458  0.8  0.829  3.6  1.3   \n",
       "3363  2021-2022  ŠARIĆ, Dario   NaN   NaN   NaN    NaN  NaN    NaN  NaN  NaN   \n",
       "4431  2020-2021  ŠARIĆ, Dario  50.0   4.0  17.4  0.447  0.9  0.848  3.8  1.3   \n",
       "5499  2019-2020  ŠARIĆ, Dario  66.0  51.0  24.7  0.476  1.3  0.844  6.2  1.9   \n",
       "386   2024-2025   ŽIŽIĆ, Ante   NaN   NaN   NaN    NaN  NaN    NaN  NaN  NaN   \n",
       "1454  2023-2024   ŽIŽIĆ, Ante   NaN   NaN   NaN    NaN  NaN    NaN  NaN  NaN   \n",
       "2522  2022-2023   ŽIŽIĆ, Ante   NaN   NaN   NaN    NaN  NaN    NaN  NaN  NaN   \n",
       "3590  2021-2022   ŽIŽIĆ, Ante   NaN   NaN   NaN    NaN  NaN    NaN  NaN  NaN   \n",
       "4658  2020-2021   ŽIŽIĆ, Ante   NaN   NaN   NaN    NaN  NaN    NaN  NaN  NaN   \n",
       "5726  2019-2020   ŽIŽIĆ, Ante  22.0   0.0  10.0  0.569  0.0  0.737  3.0  0.3   \n",
       "\n",
       "      STL  BLK  TOV   PTS CLASSIFICATION  \n",
       "2295  0.4  0.1  1.0   6.4    BENCHWARMER  \n",
       "3363  NaN  NaN  NaN   NaN            DNP  \n",
       "4431  0.6  0.1  1.1   8.7     ROLEPLAYER  \n",
       "5499  0.6  0.2  1.3  10.7        STARTER  \n",
       "386   NaN  NaN  NaN   NaN            DNP  \n",
       "1454  NaN  NaN  NaN   NaN            DNP  \n",
       "2522  NaN  NaN  NaN   NaN            DNP  \n",
       "3590  NaN  NaN  NaN   NaN            DNP  \n",
       "4658  NaN  NaN  NaN   NaN            DNP  \n",
       "5726  0.3  0.2  0.5   4.4    BENCHWARMER  "
      ]
     },
     "execution_count": 4,
     "metadata": {},
     "output_type": "execute_result"
    }
   ],
   "source": [
    "# True Label Classification\n",
    "# Ensure numeric types\n",
    "df_ml['G']  = pd.to_numeric(df_ml['G'],  errors='coerce')\n",
    "df_ml['GS'] = pd.to_numeric(df_ml['GS'], errors='coerce')\n",
    "df_ml['MP'] = pd.to_numeric(df_ml['MP'], errors='coerce')\n",
    "\n",
    "season = df_ml['Season'].astype(str).str.strip()\n",
    "G  = df_ml['G'].fillna(0)\n",
    "GS = df_ml['GS'].fillna(0)\n",
    "MP = df_ml['MP']  # keep NaN to avoid accidental ROLEPLAYER\n",
    "\n",
    "# DNP: did not play any game\n",
    "is_dnp = G.eq(0)\n",
    "\n",
    "# STARTER: using absolute GS threshold (includes bubble season override)\n",
    "abs_starter = ((season == '2019-2020') & (GS >= 52)) | ((season != '2019-2020') & (GS >= 65))\n",
    "\n",
    "# STARTER: via ratio / all-games-started\n",
    "eps = 1e-9\n",
    "ratio = GS.divide(G.replace(0, np.nan))\n",
    "ratio_starter = (~abs_starter) & (~is_dnp) & ( (ratio >= (65/82) - eps) | (GS.eq(G)) )\n",
    "\n",
    "# ROLEPLAYER: Minutes Played >= 14.4 (equivalent to 30% of play time of NBA regulation game)\n",
    "starter    = abs_starter | ratio_starter | (MP >= 24) # MP >= 24 is to include Sixth Men (or first starter off the bench)\n",
    "roleplayer = (~starter) & (~is_dnp) & (MP >= 14.4)\n",
    "\n",
    "# 4) BENCHWARMER is the remainder\n",
    "df_ml['CLASSIFICATION'] = np.select(\n",
    "    [is_dnp, starter, roleplayer],\n",
    "    ['DNP', 'STARTER', 'ROLEPLAYER'],\n",
    "    default='BENCHWARMER'\n",
    ")\n",
    "\n",
    "df_ml.tail(10)"
   ]
  },
  {
   "cell_type": "code",
   "execution_count": 5,
   "metadata": {
    "execution": {
     "iopub.execute_input": "2025-10-01T20:15:53.550726Z",
     "iopub.status.busy": "2025-10-01T20:15:53.550726Z",
     "iopub.status.idle": "2025-10-01T20:15:53.561327Z",
     "shell.execute_reply": "2025-10-01T20:15:53.560417Z"
    },
    "executionInfo": {
     "elapsed": 21,
     "status": "ok",
     "timestamp": 1759256564111,
     "user": {
      "displayName": "J-NEIL BAGAMASBAD",
      "userId": "03177234785450833391"
     },
     "user_tz": -480
    },
    "id": "rX4BeCfuy1DR"
   },
   "outputs": [],
   "source": [
    "# Filter to 2024–2025 and exclude did-not-play rows (\"DNP\")\n",
    "season_str = '2024-2025'\n",
    "mask = (\n",
    "    df_ml['Season'].astype(str).str.strip().eq(season_str) &\n",
    "    ~df_ml['CLASSIFICATION'].astype(str).str.upper().eq('DNP')\n",
    ")\n",
    "true_labels = df_ml.loc[mask].copy()"
   ]
  },
  {
   "cell_type": "code",
   "execution_count": 6,
   "metadata": {
    "colab": {
     "base_uri": "https://localhost:8080/"
    },
    "execution": {
     "iopub.execute_input": "2025-10-01T20:15:53.564055Z",
     "iopub.status.busy": "2025-10-01T20:15:53.564055Z",
     "iopub.status.idle": "2025-10-01T20:15:53.781441Z",
     "shell.execute_reply": "2025-10-01T20:15:53.780436Z"
    },
    "executionInfo": {
     "elapsed": 316,
     "status": "ok",
     "timestamp": 1759256564433,
     "user": {
      "displayName": "J-NEIL BAGAMASBAD",
      "userId": "03177234785450833391"
     },
     "user_tz": -480
    },
    "id": "41O_D62Sy_vQ",
    "outputId": "47b948a9-09a0-45e1-bb16-444bae44a4a9"
   },
   "outputs": [
    {
     "name": "stdout",
     "output_type": "stream",
     "text": [
      "Saved ground-truth labels: C:\\Users\\jhbagamasbad\\Documents\\rs-classification\\data\\ANALYSIS\\GROUND_TRUTH_2024_2025.xlsx\n",
      "Rows saved: 569\n"
     ]
    }
   ],
   "source": [
    "# Save to ANALYSIS folder\n",
    "out_path = ANALYSIS_DIR / \"GROUND_TRUTH_2024_2025.xlsx\"\n",
    "os.makedirs(ANALYSIS_DIR, exist_ok=True)\n",
    "true_labels.to_excel(out_path, index=False)\n",
    "\n",
    "print(f\"Saved ground-truth labels: {out_path}\")\n",
    "print(f\"Rows saved: {len(true_labels)}\")"
   ]
  },
  {
   "cell_type": "code",
   "execution_count": 7,
   "metadata": {
    "colab": {
     "base_uri": "https://localhost:8080/",
     "height": 363
    },
    "execution": {
     "iopub.execute_input": "2025-10-01T20:15:53.784611Z",
     "iopub.status.busy": "2025-10-01T20:15:53.784611Z",
     "iopub.status.idle": "2025-10-01T20:15:53.828871Z",
     "shell.execute_reply": "2025-10-01T20:15:53.827857Z"
    },
    "executionInfo": {
     "elapsed": 136,
     "status": "ok",
     "timestamp": 1759256564563,
     "user": {
      "displayName": "J-NEIL BAGAMASBAD",
      "userId": "03177234785450833391"
     },
     "user_tz": -480
    },
    "id": "caZ0vGnr2Din",
    "outputId": "02dc4a87-5f86-44ee-ffa4-0facd9b5c0f6"
   },
   "outputs": [
    {
     "data": {
      "text/html": [
       "<div>\n",
       "<style scoped>\n",
       "    .dataframe tbody tr th:only-of-type {\n",
       "        vertical-align: middle;\n",
       "    }\n",
       "\n",
       "    .dataframe tbody tr th {\n",
       "        vertical-align: top;\n",
       "    }\n",
       "\n",
       "    .dataframe thead th {\n",
       "        text-align: right;\n",
       "    }\n",
       "</style>\n",
       "<table border=\"1\" class=\"dataframe\">\n",
       "  <thead>\n",
       "    <tr style=\"text-align: right;\">\n",
       "      <th></th>\n",
       "      <th>Season</th>\n",
       "      <th>Player</th>\n",
       "      <th>G</th>\n",
       "      <th>GS</th>\n",
       "      <th>MP</th>\n",
       "      <th>FG%</th>\n",
       "      <th>3P</th>\n",
       "      <th>FT%</th>\n",
       "      <th>TRB</th>\n",
       "      <th>AST</th>\n",
       "      <th>STL</th>\n",
       "      <th>BLK</th>\n",
       "      <th>TOV</th>\n",
       "      <th>PTS</th>\n",
       "      <th>CLASSIFICATION</th>\n",
       "    </tr>\n",
       "  </thead>\n",
       "  <tbody>\n",
       "    <tr>\n",
       "      <th>6398</th>\n",
       "      <td>2022-2023</td>\n",
       "      <td>ŠARIĆ, Dario</td>\n",
       "      <td>57.0</td>\n",
       "      <td>12.0</td>\n",
       "      <td>14.1</td>\n",
       "      <td>0.458</td>\n",
       "      <td>0.8</td>\n",
       "      <td>0.829</td>\n",
       "      <td>3.6</td>\n",
       "      <td>1.3</td>\n",
       "      <td>0.4</td>\n",
       "      <td>0.1</td>\n",
       "      <td>1.0</td>\n",
       "      <td>6.4</td>\n",
       "      <td>ROLEPLAYER</td>\n",
       "    </tr>\n",
       "    <tr>\n",
       "      <th>6399</th>\n",
       "      <td>2021-2022</td>\n",
       "      <td>ŠARIĆ, Dario</td>\n",
       "      <td>NaN</td>\n",
       "      <td>NaN</td>\n",
       "      <td>NaN</td>\n",
       "      <td>NaN</td>\n",
       "      <td>NaN</td>\n",
       "      <td>NaN</td>\n",
       "      <td>NaN</td>\n",
       "      <td>NaN</td>\n",
       "      <td>NaN</td>\n",
       "      <td>NaN</td>\n",
       "      <td>NaN</td>\n",
       "      <td>NaN</td>\n",
       "      <td>BENCHWARMER</td>\n",
       "    </tr>\n",
       "    <tr>\n",
       "      <th>6400</th>\n",
       "      <td>2020-2021</td>\n",
       "      <td>ŠARIĆ, Dario</td>\n",
       "      <td>50.0</td>\n",
       "      <td>4.0</td>\n",
       "      <td>17.4</td>\n",
       "      <td>0.447</td>\n",
       "      <td>0.9</td>\n",
       "      <td>0.848</td>\n",
       "      <td>3.8</td>\n",
       "      <td>1.3</td>\n",
       "      <td>0.6</td>\n",
       "      <td>0.1</td>\n",
       "      <td>1.1</td>\n",
       "      <td>8.7</td>\n",
       "      <td>DNP</td>\n",
       "    </tr>\n",
       "    <tr>\n",
       "      <th>6401</th>\n",
       "      <td>2019-2020</td>\n",
       "      <td>ŠARIĆ, Dario</td>\n",
       "      <td>66.0</td>\n",
       "      <td>51.0</td>\n",
       "      <td>24.7</td>\n",
       "      <td>0.476</td>\n",
       "      <td>1.3</td>\n",
       "      <td>0.844</td>\n",
       "      <td>6.2</td>\n",
       "      <td>1.9</td>\n",
       "      <td>0.6</td>\n",
       "      <td>0.2</td>\n",
       "      <td>1.3</td>\n",
       "      <td>10.7</td>\n",
       "      <td>ROLEPLAYER</td>\n",
       "    </tr>\n",
       "    <tr>\n",
       "      <th>6402</th>\n",
       "      <td>2024-2025</td>\n",
       "      <td>ŽIŽIĆ, Ante</td>\n",
       "      <td>NaN</td>\n",
       "      <td>NaN</td>\n",
       "      <td>NaN</td>\n",
       "      <td>NaN</td>\n",
       "      <td>NaN</td>\n",
       "      <td>NaN</td>\n",
       "      <td>NaN</td>\n",
       "      <td>NaN</td>\n",
       "      <td>NaN</td>\n",
       "      <td>NaN</td>\n",
       "      <td>NaN</td>\n",
       "      <td>NaN</td>\n",
       "      <td>DNP</td>\n",
       "    </tr>\n",
       "    <tr>\n",
       "      <th>6403</th>\n",
       "      <td>2023-2024</td>\n",
       "      <td>ŽIŽIĆ, Ante</td>\n",
       "      <td>NaN</td>\n",
       "      <td>NaN</td>\n",
       "      <td>NaN</td>\n",
       "      <td>NaN</td>\n",
       "      <td>NaN</td>\n",
       "      <td>NaN</td>\n",
       "      <td>NaN</td>\n",
       "      <td>NaN</td>\n",
       "      <td>NaN</td>\n",
       "      <td>NaN</td>\n",
       "      <td>NaN</td>\n",
       "      <td>NaN</td>\n",
       "      <td>DNP</td>\n",
       "    </tr>\n",
       "    <tr>\n",
       "      <th>6404</th>\n",
       "      <td>2022-2023</td>\n",
       "      <td>ŽIŽIĆ, Ante</td>\n",
       "      <td>NaN</td>\n",
       "      <td>NaN</td>\n",
       "      <td>NaN</td>\n",
       "      <td>NaN</td>\n",
       "      <td>NaN</td>\n",
       "      <td>NaN</td>\n",
       "      <td>NaN</td>\n",
       "      <td>NaN</td>\n",
       "      <td>NaN</td>\n",
       "      <td>NaN</td>\n",
       "      <td>NaN</td>\n",
       "      <td>NaN</td>\n",
       "      <td>DNP</td>\n",
       "    </tr>\n",
       "    <tr>\n",
       "      <th>6405</th>\n",
       "      <td>2021-2022</td>\n",
       "      <td>ŽIŽIĆ, Ante</td>\n",
       "      <td>NaN</td>\n",
       "      <td>NaN</td>\n",
       "      <td>NaN</td>\n",
       "      <td>NaN</td>\n",
       "      <td>NaN</td>\n",
       "      <td>NaN</td>\n",
       "      <td>NaN</td>\n",
       "      <td>NaN</td>\n",
       "      <td>NaN</td>\n",
       "      <td>NaN</td>\n",
       "      <td>NaN</td>\n",
       "      <td>NaN</td>\n",
       "      <td>DNP</td>\n",
       "    </tr>\n",
       "    <tr>\n",
       "      <th>6406</th>\n",
       "      <td>2020-2021</td>\n",
       "      <td>ŽIŽIĆ, Ante</td>\n",
       "      <td>NaN</td>\n",
       "      <td>NaN</td>\n",
       "      <td>NaN</td>\n",
       "      <td>NaN</td>\n",
       "      <td>NaN</td>\n",
       "      <td>NaN</td>\n",
       "      <td>NaN</td>\n",
       "      <td>NaN</td>\n",
       "      <td>NaN</td>\n",
       "      <td>NaN</td>\n",
       "      <td>NaN</td>\n",
       "      <td>NaN</td>\n",
       "      <td>DNP</td>\n",
       "    </tr>\n",
       "    <tr>\n",
       "      <th>6407</th>\n",
       "      <td>2019-2020</td>\n",
       "      <td>ŽIŽIĆ, Ante</td>\n",
       "      <td>22.0</td>\n",
       "      <td>0.0</td>\n",
       "      <td>10.0</td>\n",
       "      <td>0.569</td>\n",
       "      <td>0.0</td>\n",
       "      <td>0.737</td>\n",
       "      <td>3.0</td>\n",
       "      <td>0.3</td>\n",
       "      <td>0.3</td>\n",
       "      <td>0.2</td>\n",
       "      <td>0.5</td>\n",
       "      <td>4.4</td>\n",
       "      <td>DNP</td>\n",
       "    </tr>\n",
       "  </tbody>\n",
       "</table>\n",
       "</div>"
      ],
      "text/plain": [
       "         Season        Player     G    GS    MP    FG%   3P    FT%  TRB  AST  \\\n",
       "6398  2022-2023  ŠARIĆ, Dario  57.0  12.0  14.1  0.458  0.8  0.829  3.6  1.3   \n",
       "6399  2021-2022  ŠARIĆ, Dario   NaN   NaN   NaN    NaN  NaN    NaN  NaN  NaN   \n",
       "6400  2020-2021  ŠARIĆ, Dario  50.0   4.0  17.4  0.447  0.9  0.848  3.8  1.3   \n",
       "6401  2019-2020  ŠARIĆ, Dario  66.0  51.0  24.7  0.476  1.3  0.844  6.2  1.9   \n",
       "6402  2024-2025   ŽIŽIĆ, Ante   NaN   NaN   NaN    NaN  NaN    NaN  NaN  NaN   \n",
       "6403  2023-2024   ŽIŽIĆ, Ante   NaN   NaN   NaN    NaN  NaN    NaN  NaN  NaN   \n",
       "6404  2022-2023   ŽIŽIĆ, Ante   NaN   NaN   NaN    NaN  NaN    NaN  NaN  NaN   \n",
       "6405  2021-2022   ŽIŽIĆ, Ante   NaN   NaN   NaN    NaN  NaN    NaN  NaN  NaN   \n",
       "6406  2020-2021   ŽIŽIĆ, Ante   NaN   NaN   NaN    NaN  NaN    NaN  NaN  NaN   \n",
       "6407  2019-2020   ŽIŽIĆ, Ante  22.0   0.0  10.0  0.569  0.0  0.737  3.0  0.3   \n",
       "\n",
       "      STL  BLK  TOV   PTS CLASSIFICATION  \n",
       "6398  0.4  0.1  1.0   6.4     ROLEPLAYER  \n",
       "6399  NaN  NaN  NaN   NaN    BENCHWARMER  \n",
       "6400  0.6  0.1  1.1   8.7            DNP  \n",
       "6401  0.6  0.2  1.3  10.7     ROLEPLAYER  \n",
       "6402  NaN  NaN  NaN   NaN            DNP  \n",
       "6403  NaN  NaN  NaN   NaN            DNP  \n",
       "6404  NaN  NaN  NaN   NaN            DNP  \n",
       "6405  NaN  NaN  NaN   NaN            DNP  \n",
       "6406  NaN  NaN  NaN   NaN            DNP  \n",
       "6407  0.3  0.2  0.5   4.4            DNP  "
      ]
     },
     "execution_count": 7,
     "metadata": {},
     "output_type": "execute_result"
    }
   ],
   "source": [
    "# ---- Creating the train-test dataset ----\n",
    "# Compute the next season string \"YYYY-YYYY\" -> \"YYYY+1-YYYY+1\"\n",
    "def next_season_str(s: str) -> str | None:\n",
    "    m = re.match(r'^\\s*(\\d{4})-(\\d{4})\\s*$', str(s))\n",
    "    if not m:\n",
    "        return None\n",
    "    y1, y2 = int(m.group(1)), int(m.group(2))\n",
    "    return f\"{y1+1}-{y2+1}\"\n",
    "\n",
    "# Build \"next season\" key on the left\n",
    "df_ml['__NextSeason'] = df_ml['Season'].apply(next_season_str)\n",
    "\n",
    "# Build lookup of next-season classification per (Player, NextSeason)\n",
    "lookup = (\n",
    "    df_ml[['Player', 'Season', 'CLASSIFICATION']]\n",
    "    .drop_duplicates(subset=['Player', 'Season'])\n",
    "    .rename(columns={'Season': '__NextSeason', 'CLASSIFICATION': '__NEXT_CLASS'})\n",
    ")\n",
    "\n",
    "# Left-merge to fetch next-season classification for the same player\n",
    "df_ml = df_ml.merge(lookup, on=['Player', '__NextSeason'], how='left')\n",
    "\n",
    "# Overwrite current classification:\n",
    "# - If next-season class is NaN or 'DNP' -> 'DNP'\n",
    "# - Else copy next-season class\n",
    "next_is_dnp_or_missing = df_ml['__NEXT_CLASS'].isna() | df_ml['__NEXT_CLASS'].str.upper().eq('DNP')\n",
    "df_ml['CLASSIFICATION'] = np.where(next_is_dnp_or_missing, 'DNP', df_ml['__NEXT_CLASS'])\n",
    "\n",
    "# Cleanup helper columns\n",
    "df_ml.drop(columns=['__NextSeason', '__NEXT_CLASS'], inplace=True)\n",
    "\n",
    "df_ml.tail(10)"
   ]
  },
  {
   "cell_type": "code",
   "execution_count": 8,
   "metadata": {
    "colab": {
     "base_uri": "https://localhost:8080/",
     "height": 380
    },
    "execution": {
     "iopub.execute_input": "2025-10-01T20:15:53.831350Z",
     "iopub.status.busy": "2025-10-01T20:15:53.831350Z",
     "iopub.status.idle": "2025-10-01T20:15:53.859990Z",
     "shell.execute_reply": "2025-10-01T20:15:53.859109Z"
    },
    "executionInfo": {
     "elapsed": 117,
     "status": "ok",
     "timestamp": 1759256564682,
     "user": {
      "displayName": "J-NEIL BAGAMASBAD",
      "userId": "03177234785450833391"
     },
     "user_tz": -480
    },
    "id": "DDQE0WvM4Afp",
    "outputId": "decd9488-9a14-4124-cd67-5dcd7f24f2be"
   },
   "outputs": [
    {
     "name": "stdout",
     "output_type": "stream",
     "text": [
      "Rows before: 6408  |  after filtering: 2168  |  dropped: 4240\n"
     ]
    },
    {
     "data": {
      "text/html": [
       "<div>\n",
       "<style scoped>\n",
       "    .dataframe tbody tr th:only-of-type {\n",
       "        vertical-align: middle;\n",
       "    }\n",
       "\n",
       "    .dataframe tbody tr th {\n",
       "        vertical-align: top;\n",
       "    }\n",
       "\n",
       "    .dataframe thead th {\n",
       "        text-align: right;\n",
       "    }\n",
       "</style>\n",
       "<table border=\"1\" class=\"dataframe\">\n",
       "  <thead>\n",
       "    <tr style=\"text-align: right;\">\n",
       "      <th></th>\n",
       "      <th>Season</th>\n",
       "      <th>Player</th>\n",
       "      <th>G</th>\n",
       "      <th>GS</th>\n",
       "      <th>MP</th>\n",
       "      <th>FG%</th>\n",
       "      <th>3P</th>\n",
       "      <th>FT%</th>\n",
       "      <th>TRB</th>\n",
       "      <th>AST</th>\n",
       "      <th>STL</th>\n",
       "      <th>BLK</th>\n",
       "      <th>TOV</th>\n",
       "      <th>PTS</th>\n",
       "      <th>CLASSIFICATION</th>\n",
       "    </tr>\n",
       "  </thead>\n",
       "  <tbody>\n",
       "    <tr>\n",
       "      <th>6377</th>\n",
       "      <td>2019-2020</td>\n",
       "      <td>ČANČAR, Vlatko</td>\n",
       "      <td>14.0</td>\n",
       "      <td>0.0</td>\n",
       "      <td>3.2</td>\n",
       "      <td>0.400</td>\n",
       "      <td>0.1</td>\n",
       "      <td>1.000</td>\n",
       "      <td>0.7</td>\n",
       "      <td>0.2</td>\n",
       "      <td>0.1</td>\n",
       "      <td>0.1</td>\n",
       "      <td>0.2</td>\n",
       "      <td>1.2</td>\n",
       "      <td>BENCHWARMER</td>\n",
       "    </tr>\n",
       "    <tr>\n",
       "      <th>6383</th>\n",
       "      <td>2019-2020</td>\n",
       "      <td>İLYASOVA, Ersan</td>\n",
       "      <td>63.0</td>\n",
       "      <td>8.0</td>\n",
       "      <td>15.7</td>\n",
       "      <td>0.466</td>\n",
       "      <td>0.8</td>\n",
       "      <td>0.828</td>\n",
       "      <td>4.8</td>\n",
       "      <td>0.8</td>\n",
       "      <td>0.4</td>\n",
       "      <td>0.3</td>\n",
       "      <td>0.5</td>\n",
       "      <td>6.6</td>\n",
       "      <td>BENCHWARMER</td>\n",
       "    </tr>\n",
       "    <tr>\n",
       "      <th>6385</th>\n",
       "      <td>2023-2024</td>\n",
       "      <td>ŞENGÜN, Alperen</td>\n",
       "      <td>63.0</td>\n",
       "      <td>63.0</td>\n",
       "      <td>32.5</td>\n",
       "      <td>0.537</td>\n",
       "      <td>0.5</td>\n",
       "      <td>0.693</td>\n",
       "      <td>9.3</td>\n",
       "      <td>5.0</td>\n",
       "      <td>1.2</td>\n",
       "      <td>0.7</td>\n",
       "      <td>2.6</td>\n",
       "      <td>21.1</td>\n",
       "      <td>STARTER</td>\n",
       "    </tr>\n",
       "    <tr>\n",
       "      <th>6386</th>\n",
       "      <td>2022-2023</td>\n",
       "      <td>ŞENGÜN, Alperen</td>\n",
       "      <td>75.0</td>\n",
       "      <td>72.0</td>\n",
       "      <td>28.9</td>\n",
       "      <td>0.553</td>\n",
       "      <td>0.3</td>\n",
       "      <td>0.715</td>\n",
       "      <td>9.0</td>\n",
       "      <td>3.9</td>\n",
       "      <td>0.9</td>\n",
       "      <td>0.9</td>\n",
       "      <td>2.6</td>\n",
       "      <td>14.8</td>\n",
       "      <td>STARTER</td>\n",
       "    </tr>\n",
       "    <tr>\n",
       "      <th>6387</th>\n",
       "      <td>2021-2022</td>\n",
       "      <td>ŞENGÜN, Alperen</td>\n",
       "      <td>72.0</td>\n",
       "      <td>13.0</td>\n",
       "      <td>20.7</td>\n",
       "      <td>0.474</td>\n",
       "      <td>0.4</td>\n",
       "      <td>0.711</td>\n",
       "      <td>5.5</td>\n",
       "      <td>2.6</td>\n",
       "      <td>0.8</td>\n",
       "      <td>0.9</td>\n",
       "      <td>2.0</td>\n",
       "      <td>9.6</td>\n",
       "      <td>STARTER</td>\n",
       "    </tr>\n",
       "    <tr>\n",
       "      <th>6392</th>\n",
       "      <td>2022-2023</td>\n",
       "      <td>ŠAMANIĆ, Luka</td>\n",
       "      <td>7.0</td>\n",
       "      <td>4.0</td>\n",
       "      <td>23.0</td>\n",
       "      <td>0.456</td>\n",
       "      <td>1.1</td>\n",
       "      <td>0.692</td>\n",
       "      <td>4.3</td>\n",
       "      <td>2.1</td>\n",
       "      <td>0.9</td>\n",
       "      <td>0.3</td>\n",
       "      <td>1.4</td>\n",
       "      <td>9.9</td>\n",
       "      <td>BENCHWARMER</td>\n",
       "    </tr>\n",
       "    <tr>\n",
       "      <th>6395</th>\n",
       "      <td>2019-2020</td>\n",
       "      <td>ŠAMANIĆ, Luka</td>\n",
       "      <td>3.0</td>\n",
       "      <td>1.0</td>\n",
       "      <td>16.0</td>\n",
       "      <td>0.313</td>\n",
       "      <td>1.0</td>\n",
       "      <td>0.750</td>\n",
       "      <td>3.3</td>\n",
       "      <td>2.0</td>\n",
       "      <td>0.0</td>\n",
       "      <td>0.7</td>\n",
       "      <td>0.7</td>\n",
       "      <td>5.3</td>\n",
       "      <td>BENCHWARMER</td>\n",
       "    </tr>\n",
       "    <tr>\n",
       "      <th>6397</th>\n",
       "      <td>2023-2024</td>\n",
       "      <td>ŠARIĆ, Dario</td>\n",
       "      <td>64.0</td>\n",
       "      <td>9.0</td>\n",
       "      <td>17.2</td>\n",
       "      <td>0.466</td>\n",
       "      <td>1.2</td>\n",
       "      <td>0.849</td>\n",
       "      <td>4.4</td>\n",
       "      <td>2.3</td>\n",
       "      <td>0.5</td>\n",
       "      <td>0.2</td>\n",
       "      <td>1.2</td>\n",
       "      <td>8.0</td>\n",
       "      <td>BENCHWARMER</td>\n",
       "    </tr>\n",
       "    <tr>\n",
       "      <th>6398</th>\n",
       "      <td>2022-2023</td>\n",
       "      <td>ŠARIĆ, Dario</td>\n",
       "      <td>57.0</td>\n",
       "      <td>12.0</td>\n",
       "      <td>14.1</td>\n",
       "      <td>0.458</td>\n",
       "      <td>0.8</td>\n",
       "      <td>0.829</td>\n",
       "      <td>3.6</td>\n",
       "      <td>1.3</td>\n",
       "      <td>0.4</td>\n",
       "      <td>0.1</td>\n",
       "      <td>1.0</td>\n",
       "      <td>6.4</td>\n",
       "      <td>ROLEPLAYER</td>\n",
       "    </tr>\n",
       "    <tr>\n",
       "      <th>6401</th>\n",
       "      <td>2019-2020</td>\n",
       "      <td>ŠARIĆ, Dario</td>\n",
       "      <td>66.0</td>\n",
       "      <td>51.0</td>\n",
       "      <td>24.7</td>\n",
       "      <td>0.476</td>\n",
       "      <td>1.3</td>\n",
       "      <td>0.844</td>\n",
       "      <td>6.2</td>\n",
       "      <td>1.9</td>\n",
       "      <td>0.6</td>\n",
       "      <td>0.2</td>\n",
       "      <td>1.3</td>\n",
       "      <td>10.7</td>\n",
       "      <td>ROLEPLAYER</td>\n",
       "    </tr>\n",
       "  </tbody>\n",
       "</table>\n",
       "</div>"
      ],
      "text/plain": [
       "         Season           Player     G    GS    MP    FG%   3P    FT%  TRB  \\\n",
       "6377  2019-2020   ČANČAR, Vlatko  14.0   0.0   3.2  0.400  0.1  1.000  0.7   \n",
       "6383  2019-2020  İLYASOVA, Ersan  63.0   8.0  15.7  0.466  0.8  0.828  4.8   \n",
       "6385  2023-2024  ŞENGÜN, Alperen  63.0  63.0  32.5  0.537  0.5  0.693  9.3   \n",
       "6386  2022-2023  ŞENGÜN, Alperen  75.0  72.0  28.9  0.553  0.3  0.715  9.0   \n",
       "6387  2021-2022  ŞENGÜN, Alperen  72.0  13.0  20.7  0.474  0.4  0.711  5.5   \n",
       "6392  2022-2023    ŠAMANIĆ, Luka   7.0   4.0  23.0  0.456  1.1  0.692  4.3   \n",
       "6395  2019-2020    ŠAMANIĆ, Luka   3.0   1.0  16.0  0.313  1.0  0.750  3.3   \n",
       "6397  2023-2024     ŠARIĆ, Dario  64.0   9.0  17.2  0.466  1.2  0.849  4.4   \n",
       "6398  2022-2023     ŠARIĆ, Dario  57.0  12.0  14.1  0.458  0.8  0.829  3.6   \n",
       "6401  2019-2020     ŠARIĆ, Dario  66.0  51.0  24.7  0.476  1.3  0.844  6.2   \n",
       "\n",
       "      AST  STL  BLK  TOV   PTS CLASSIFICATION  \n",
       "6377  0.2  0.1  0.1  0.2   1.2    BENCHWARMER  \n",
       "6383  0.8  0.4  0.3  0.5   6.6    BENCHWARMER  \n",
       "6385  5.0  1.2  0.7  2.6  21.1        STARTER  \n",
       "6386  3.9  0.9  0.9  2.6  14.8        STARTER  \n",
       "6387  2.6  0.8  0.9  2.0   9.6        STARTER  \n",
       "6392  2.1  0.9  0.3  1.4   9.9    BENCHWARMER  \n",
       "6395  2.0  0.0  0.7  0.7   5.3    BENCHWARMER  \n",
       "6397  2.3  0.5  0.2  1.2   8.0    BENCHWARMER  \n",
       "6398  1.3  0.4  0.1  1.0   6.4     ROLEPLAYER  \n",
       "6401  1.9  0.6  0.2  1.3  10.7     ROLEPLAYER  "
      ]
     },
     "execution_count": 8,
     "metadata": {},
     "output_type": "execute_result"
    }
   ],
   "source": [
    "# Ensure FG% and FT% are present and numeric\n",
    "required_cols = ['FG%', 'FT%', 'CLASSIFICATION']\n",
    "missing = [c for c in required_cols if c not in df_ml.columns]\n",
    "if missing:\n",
    "    raise KeyError(f\"Missing required columns: {missing}\")\n",
    "\n",
    "df_ml['FG%'] = pd.to_numeric(df_ml['FG%'], errors='coerce')\n",
    "df_ml['FT%'] = pd.to_numeric(df_ml['FT%'], errors='coerce')\n",
    "\n",
    "before = len(df_ml)\n",
    "\n",
    "# Build filter: keep rows that are NOT DNP and have non-null FG% and FT%\n",
    "mask = (\n",
    "    ~df_ml['CLASSIFICATION'].astype(str).str.upper().eq('DNP') &\n",
    "    df_ml['FG%'].notna() &\n",
    "    df_ml['FT%'].notna()\n",
    ")\n",
    "\n",
    "df_ml = df_ml.loc[mask].copy()\n",
    "after = len(df_ml)\n",
    "\n",
    "print(f\"Rows before: {before}  |  after filtering: {after}  |  dropped: {before - after}\")\n",
    "\n",
    "df_ml.tail(10)"
   ]
  },
  {
   "cell_type": "code",
   "execution_count": 9,
   "metadata": {
    "colab": {
     "base_uri": "https://localhost:8080/"
    },
    "execution": {
     "iopub.execute_input": "2025-10-01T20:15:53.863591Z",
     "iopub.status.busy": "2025-10-01T20:15:53.862590Z",
     "iopub.status.idle": "2025-10-01T20:15:54.359080Z",
     "shell.execute_reply": "2025-10-01T20:15:54.358097Z"
    },
    "executionInfo": {
     "elapsed": 1509,
     "status": "ok",
     "timestamp": 1759256566194,
     "user": {
      "displayName": "J-NEIL BAGAMASBAD",
      "userId": "03177234785450833391"
     },
     "user_tz": -480
    },
    "id": "qhpm4pQR4Ta5",
    "outputId": "31948dd7-5d79-46c2-ef37-00871d33824e"
   },
   "outputs": [
    {
     "name": "stdout",
     "output_type": "stream",
     "text": [
      "Saved ML train-test dataset -> C:\\Users\\jhbagamasbad\\Documents\\rs-classification\\data\\ANALYSIS\\ML_train_test_dataset.xlsx\n",
      "Shape: 2168 rows × 15 columns\n"
     ]
    }
   ],
   "source": [
    "# Save ML train-test dataset to Excel\n",
    "ml_out_path = ANALYSIS_DIR / \"ML_train_test_dataset.xlsx\"\n",
    "os.makedirs(ANALYSIS_DIR, exist_ok=True)\n",
    "df_ml.to_excel(ml_out_path, index=False)\n",
    "\n",
    "print(f\"Saved ML train-test dataset -> {ml_out_path}\")\n",
    "print(f\"Shape: {df_ml.shape[0]} rows × {df_ml.shape[1]} columns\")"
   ]
  },
  {
   "cell_type": "code",
   "execution_count": 10,
   "metadata": {
    "colab": {
     "base_uri": "https://localhost:8080/"
    },
    "execution": {
     "iopub.execute_input": "2025-10-01T20:15:54.361564Z",
     "iopub.status.busy": "2025-10-01T20:15:54.359983Z",
     "iopub.status.idle": "2025-10-01T20:15:54.670018Z",
     "shell.execute_reply": "2025-10-01T20:15:54.669008Z"
    },
    "executionInfo": {
     "elapsed": 1248,
     "status": "ok",
     "timestamp": 1759256567444,
     "user": {
      "displayName": "J-NEIL BAGAMASBAD",
      "userId": "03177234785450833391"
     },
     "user_tz": -480
    },
    "id": "HaT2Mwn0_cwb",
    "outputId": "44373bd7-cc78-4f17-ec9c-d948b3b1ed67"
   },
   "outputs": [
    {
     "name": "stdout",
     "output_type": "stream",
     "text": [
      "Label mapping: {'BENCHWARMER': np.int64(0), 'ROLEPLAYER': np.int64(1), 'STARTER': np.int64(2)}\n"
     ]
    }
   ],
   "source": [
    "# ---- ML Classification (KNN / Decision Tree / Naive Bayes) ----\n",
    "# Load the prepared ML train-test dataset\n",
    "ml_in_path = ANALYSIS_DIR / \"ML_train_test_dataset.xlsx\"\n",
    "stats = pd.read_excel(ml_in_path)\n",
    "\n",
    "# re-check columns\n",
    "feature_cols = ['FG%', '3P', 'FT%', 'TRB', 'AST', 'STL', 'BLK', 'TOV', 'PTS']\n",
    "missing_feats = [c for c in feature_cols if c not in stats.columns]\n",
    "if missing_feats:\n",
    "    raise KeyError(f\"Missing required feature columns: {missing_feats}\")\n",
    "if 'CLASSIFICATION' not in stats.columns:\n",
    "    raise KeyError(\"Missing target column 'CLASSIFICATION' in ml_train_test_dataset.xlsx\")\n",
    "if 'Season' not in stats.columns or 'Player' not in stats.columns:\n",
    "    raise KeyError(\"Input must contain 'Season' and 'Player' columns.\")\n",
    "\n",
    "# Encode labels\n",
    "le = LabelEncoder()\n",
    "stats['ROLE_encoded'] = le.fit_transform(stats['CLASSIFICATION'])\n",
    "# For reference, print encoding mapping:\n",
    "print(\"Label mapping:\", dict(zip(le.classes_, le.transform(le.classes_)))) # e.g., {'BENCHWARMER': 0, 'ROLEPLAYER': 1, 'STARTER': 2}"
   ]
  },
  {
   "cell_type": "code",
   "execution_count": 11,
   "metadata": {
    "colab": {
     "base_uri": "https://localhost:8080/"
    },
    "execution": {
     "iopub.execute_input": "2025-10-01T20:15:54.672687Z",
     "iopub.status.busy": "2025-10-01T20:15:54.671677Z",
     "iopub.status.idle": "2025-10-01T20:15:54.684616Z",
     "shell.execute_reply": "2025-10-01T20:15:54.684616Z"
    },
    "executionInfo": {
     "elapsed": 32,
     "status": "ok",
     "timestamp": 1759256567470,
     "user": {
      "displayName": "J-NEIL BAGAMASBAD",
      "userId": "03177234785450833391"
     },
     "user_tz": -480
    },
    "id": "cG9zMhsNAPhC",
    "outputId": "062cbd26-7a66-425a-cec5-93aaddf487db"
   },
   "outputs": [
    {
     "name": "stdout",
     "output_type": "stream",
     "text": [
      "Train seasons: ['2022-2023', '2021-2022', '2020-2021', '2019-2020']\n",
      "Test season:   2023-2024\n"
     ]
    }
   ],
   "source": [
    "# Train-Test Split by Season\n",
    "# Use the most recent season (by start year) as TEST; prior four seasons as TRAIN\n",
    "def _season_start(s):\n",
    "    m = re.match(r'^\\s*(\\d{4})-(\\d{4})\\s*$', str(s))\n",
    "    return int(m.group(1)) if m else -10**9\n",
    "\n",
    "unique_seasons = sorted(stats['Season'].unique(), key=_season_start, reverse=True)\n",
    "if len(unique_seasons) < 2:\n",
    "    raise ValueError(\"Need at least two seasons for a meaningful train/test split.\")\n",
    "\n",
    "test_season = unique_seasons[0]\n",
    "train_seasons = unique_seasons[1:5]  # take up to four seasons before the test season\n",
    "print(f\"Train seasons: {train_seasons}\")\n",
    "print(f\"Test season:   {test_season}\")\n",
    "\n",
    "train_df = stats[stats['Season'].isin(train_seasons)].copy()\n",
    "test_df  = stats[stats['Season'] == test_season].copy()\n",
    "\n",
    "X_train = train_df[feature_cols]\n",
    "y_train = train_df['ROLE_encoded']\n",
    "\n",
    "X_test  = test_df[feature_cols]\n",
    "y_test  = test_df['ROLE_encoded']\n",
    "\n",
    "players_test  = test_df['Player'].reset_index(drop=True)\n",
    "seasons_test  = test_df['Season'].reset_index(drop=True)\n",
    "true_labels   = le.inverse_transform(y_test)"
   ]
  },
  {
   "cell_type": "code",
   "execution_count": 12,
   "metadata": {
    "execution": {
     "iopub.execute_input": "2025-10-01T20:15:54.688225Z",
     "iopub.status.busy": "2025-10-01T20:15:54.687216Z",
     "iopub.status.idle": "2025-10-01T20:15:54.701479Z",
     "shell.execute_reply": "2025-10-01T20:15:54.700499Z"
    },
    "executionInfo": {
     "elapsed": 5,
     "status": "ok",
     "timestamp": 1759256567478,
     "user": {
      "displayName": "J-NEIL BAGAMASBAD",
      "userId": "03177234785450833391"
     },
     "user_tz": -480
    },
    "id": "31MHZ8OQAib4"
   },
   "outputs": [],
   "source": [
    "# For plotting Confusion Matrices\n",
    "def plot_conf_mat(model, title=\"Confusion Matrix\"):\n",
    "    y_pred = model.predict(X_test)\n",
    "    cm = confusion_matrix(y_test, y_pred)\n",
    "    disp = ConfusionMatrixDisplay(confusion_matrix=cm, display_labels=le.classes_)\n",
    "    fig, ax = plt.subplots()\n",
    "    disp.plot(ax=ax, cmap='YlGnBu')\n",
    "    ax.set_title(title)\n",
    "    plt.show()\n",
    "    print(classification_report(y_test, y_pred, target_names=le.classes_))"
   ]
  },
  {
   "cell_type": "code",
   "execution_count": 13,
   "metadata": {
    "colab": {
     "base_uri": "https://localhost:8080/"
    },
    "execution": {
     "iopub.execute_input": "2025-10-01T20:15:54.703817Z",
     "iopub.status.busy": "2025-10-01T20:15:54.703817Z",
     "iopub.status.idle": "2025-10-01T20:15:56.992122Z",
     "shell.execute_reply": "2025-10-01T20:15:56.991344Z"
    },
    "executionInfo": {
     "elapsed": 4091,
     "status": "ok",
     "timestamp": 1759256571572,
     "user": {
      "displayName": "J-NEIL BAGAMASBAD",
      "userId": "03177234785450833391"
     },
     "user_tz": -480
    },
    "id": "0zLE-gunAsaj",
    "outputId": "21779727-525f-4e68-89bc-6d06800337ee"
   },
   "outputs": [
    {
     "name": "stdout",
     "output_type": "stream",
     "text": [
      "Accuracy for KNN (k=82): 0.6819\n"
     ]
    }
   ],
   "source": [
    "# k-Nearest Neighbors: search best k\n",
    "best_k = None\n",
    "best_acc = -1.0\n",
    "k_range = range(1, 102)  # 1..101\n",
    "k_acc = []\n",
    "\n",
    "for k in k_range:\n",
    "    clf = KNeighborsClassifier(n_neighbors=k)\n",
    "    clf.fit(X_train, y_train)\n",
    "    acc = clf.score(X_test, y_test)\n",
    "    k_acc.append(acc)\n",
    "    if acc > best_acc:\n",
    "        best_acc = acc\n",
    "        best_k = k\n",
    "\n",
    "print(f\"Accuracy for KNN (k={best_k}): {best_acc:.4f}\")"
   ]
  },
  {
   "cell_type": "code",
   "execution_count": 14,
   "metadata": {
    "colab": {
     "base_uri": "https://localhost:8080/",
     "height": 646
    },
    "execution": {
     "iopub.execute_input": "2025-10-01T20:15:56.995127Z",
     "iopub.status.busy": "2025-10-01T20:15:56.994131Z",
     "iopub.status.idle": "2025-10-01T20:15:57.163822Z",
     "shell.execute_reply": "2025-10-01T20:15:57.162897Z"
    },
    "executionInfo": {
     "elapsed": 435,
     "status": "ok",
     "timestamp": 1759256572026,
     "user": {
      "displayName": "J-NEIL BAGAMASBAD",
      "userId": "03177234785450833391"
     },
     "user_tz": -480
    },
    "id": "oqB6wdyWA1So",
    "outputId": "b33bb3e7-be8f-4dd6-db82-2e54c795a686"
   },
   "outputs": [
    {
     "data": {
      "image/png": "[encoded data removed]",
      "text/plain": [
       "<Figure size 640x480 with 2 Axes>"
      ]
     },
     "metadata": {},
     "output_type": "display_data"
    },
    {
     "name": "stdout",
     "output_type": "stream",
     "text": [
      "              precision    recall  f1-score   support\n",
      "\n",
      " BENCHWARMER       0.61      0.70      0.66       108\n",
      "  ROLEPLAYER       0.51      0.53      0.52       135\n",
      "     STARTER       0.87      0.77      0.82       194\n",
      "\n",
      "    accuracy                           0.68       437\n",
      "   macro avg       0.66      0.67      0.67       437\n",
      "weighted avg       0.70      0.68      0.69       437\n",
      "\n"
     ]
    }
   ],
   "source": [
    "knn_clf = KNeighborsClassifier(n_neighbors=best_k)\n",
    "knn_clf.fit(X_train, y_train)\n",
    "plot_conf_mat(knn_clf, title=f\"KNN (k={best_k}) Confusion Matrix\")"
   ]
  },
  {
   "cell_type": "code",
   "execution_count": 15,
   "metadata": {
    "colab": {
     "base_uri": "https://localhost:8080/",
     "height": 577
    },
    "execution": {
     "iopub.execute_input": "2025-10-01T20:15:57.165819Z",
     "iopub.status.busy": "2025-10-01T20:15:57.165819Z",
     "iopub.status.idle": "2025-10-01T20:15:57.334623Z",
     "shell.execute_reply": "2025-10-01T20:15:57.333714Z"
    },
    "executionInfo": {
     "elapsed": 342,
     "status": "ok",
     "timestamp": 1759256572371,
     "user": {
      "displayName": "J-NEIL BAGAMASBAD",
      "userId": "03177234785450833391"
     },
     "user_tz": -480
    },
    "id": "jkD7otyCdFgl",
    "outputId": "54ad2c5c-47e1-4a1a-d5f9-34a7fc0c7c12"
   },
   "outputs": [
    {
     "data": {
      "text/plain": [
       "(0.64, 0.7)"
      ]
     },
     "execution_count": 15,
     "metadata": {},
     "output_type": "execute_result"
    },
    {
     "data": {
      "image/png": "[encoded data removed]",
      "text/plain": [
       "<Figure size 640x480 with 2 Axes>"
      ]
     },
     "metadata": {},
     "output_type": "display_data"
    }
   ],
   "source": [
    "# k curve\n",
    "fig = plt.figure()\n",
    "ax1 = fig.add_axes([0, 0, 1, 1])\n",
    "ax2 = fig.add_axes([0.5, 0.3, 0.4, 0.2])\n",
    "\n",
    "ax1.plot(k_range, k_acc, 'b')\n",
    "ax1.set_xlabel('k-Value')\n",
    "ax1.set_ylabel('Test Accuracy')\n",
    "\n",
    "ax2.plot(k_range, k_acc, 'b', marker='o', markersize=6, markerfacecolor=\"purple\")\n",
    "ax2.set_xlabel('k-Value')\n",
    "ax2.set_xlim([80, 84])\n",
    "ax2.set_ylabel('Test Accuracy')\n",
    "ax2.set_ylim([0.64, 0.70])"
   ]
  },
  {
   "cell_type": "code",
   "execution_count": 16,
   "metadata": {
    "colab": {
     "base_uri": "https://localhost:8080/",
     "height": 1000
    },
    "execution": {
     "iopub.execute_input": "2025-10-01T20:15:57.337617Z",
     "iopub.status.busy": "2025-10-01T20:15:57.337617Z",
     "iopub.status.idle": "2025-10-01T20:15:57.820469Z",
     "shell.execute_reply": "2025-10-01T20:15:57.819569Z"
    },
    "executionInfo": {
     "elapsed": 965,
     "status": "ok",
     "timestamp": 1759256573338,
     "user": {
      "displayName": "J-NEIL BAGAMASBAD",
      "userId": "03177234785450833391"
     },
     "user_tz": -480
    },
    "id": "1u94QtfVA60g",
    "outputId": "1d694b88-ec6e-4cdb-b17e-c29b74b81d16"
   },
   "outputs": [
    {
     "name": "stdout",
     "output_type": "stream",
     "text": [
      "Accuracy for Decision Tree (max_depth=3): 0.6568\n",
      "|--- PTS <= 11.95\n",
      "|   |--- PTS <= 4.75\n",
      "|   |   |--- STL <= 0.55\n",
      "|   |   |   |--- class: 0\n",
      "|   |   |--- STL >  0.55\n",
      "|   |   |   |--- class: 1\n",
      "|   |--- PTS >  4.75\n",
      "|   |   |--- PTS <= 7.75\n",
      "|   |   |   |--- class: 1\n",
      "|   |   |--- PTS >  7.75\n",
      "|   |   |   |--- class: 1\n",
      "|--- PTS >  11.95\n",
      "|   |--- PTS <= 14.15\n",
      "|   |   |--- AST <= 1.95\n",
      "|   |   |   |--- class: 2\n",
      "|   |   |--- AST >  1.95\n",
      "|   |   |   |--- class: 2\n",
      "|   |--- PTS >  14.15\n",
      "|   |   |--- STL <= 0.45\n",
      "|   |   |   |--- class: 1\n",
      "|   |   |--- STL >  0.45\n",
      "|   |   |   |--- class: 2\n",
      "\n"
     ]
    },
    {
     "data": {
      "image/png": "[encoded data removed]",
      "text/plain": [
       "<Figure size 1800x1200 with 1 Axes>"
      ]
     },
     "metadata": {},
     "output_type": "display_data"
    }
   ],
   "source": [
    "# Decision Tree\n",
    "dt_clf = tree.DecisionTreeClassifier(random_state=42, max_depth=3)\n",
    "dt_clf.fit(X_train, y_train)\n",
    "dt_acc = dt_clf.score(X_test, y_test)\n",
    "print(f\"Accuracy for Decision Tree (max_depth=3): {dt_acc:.4f}\")\n",
    "print(tree.export_text(dt_clf, feature_names=feature_cols))\n",
    "\n",
    "# (Optional) visualize tree\n",
    "plt.figure(figsize=(18, 12))\n",
    "tree.plot_tree(\n",
    "    dt_clf,\n",
    "    feature_names=feature_cols,\n",
    "    class_names=list(le.classes_),\n",
    "    filled=True,\n",
    "    rounded=True,\n",
    "    precision=2\n",
    ")\n",
    "plt.title(\"Decision Tree (max_depth=3)\")\n",
    "plt.show()"
   ]
  },
  {
   "cell_type": "code",
   "execution_count": 17,
   "metadata": {
    "colab": {
     "base_uri": "https://localhost:8080/",
     "height": 646
    },
    "execution": {
     "iopub.execute_input": "2025-10-01T20:15:57.823688Z",
     "iopub.status.busy": "2025-10-01T20:15:57.823688Z",
     "iopub.status.idle": "2025-10-01T20:15:57.992110Z",
     "shell.execute_reply": "2025-10-01T20:15:57.990721Z"
    },
    "executionInfo": {
     "elapsed": 130,
     "status": "ok",
     "timestamp": 1759256573470,
     "user": {
      "displayName": "J-NEIL BAGAMASBAD",
      "userId": "03177234785450833391"
     },
     "user_tz": -480
    },
    "id": "cJ6MvTFqBCV6",
    "outputId": "c3995491-3f56-48b9-c77c-84cd63308c5b"
   },
   "outputs": [
    {
     "data": {
      "image/png": "[encoded data removed]",
      "text/plain": [
       "<Figure size 640x480 with 2 Axes>"
      ]
     },
     "metadata": {},
     "output_type": "display_data"
    },
    {
     "name": "stdout",
     "output_type": "stream",
     "text": [
      "              precision    recall  f1-score   support\n",
      "\n",
      " BENCHWARMER       0.67      0.57      0.62       108\n",
      "  ROLEPLAYER       0.47      0.72      0.57       135\n",
      "     STARTER       0.93      0.66      0.77       194\n",
      "\n",
      "    accuracy                           0.66       437\n",
      "   macro avg       0.69      0.65      0.65       437\n",
      "weighted avg       0.72      0.66      0.67       437\n",
      "\n"
     ]
    }
   ],
   "source": [
    "plot_conf_mat(dt_clf, title=\"Decision Tree Confusion Matrix\")"
   ]
  },
  {
   "cell_type": "code",
   "execution_count": 18,
   "metadata": {
    "colab": {
     "base_uri": "https://localhost:8080/"
    },
    "execution": {
     "iopub.execute_input": "2025-10-01T20:15:57.996205Z",
     "iopub.status.busy": "2025-10-01T20:15:57.995204Z",
     "iopub.status.idle": "2025-10-01T20:15:58.870299Z",
     "shell.execute_reply": "2025-10-01T20:15:58.868301Z"
    },
    "executionInfo": {
     "elapsed": 1103,
     "status": "ok",
     "timestamp": 1759256574575,
     "user": {
      "displayName": "J-NEIL BAGAMASBAD",
      "userId": "03177234785450833391"
     },
     "user_tz": -480
    },
    "id": "_9k1EydYBELh",
    "outputId": "caf5d149-55fa-4f12-d57c-0adc84838e43"
   },
   "outputs": [
    {
     "name": "stdout",
     "output_type": "stream",
     "text": [
      "Best max_depth via GridSearchCV: 3\n"
     ]
    }
   ],
   "source": [
    "# Grid search for best max_depth (1..10)\n",
    "param_grid = {'max_depth': list(range(1, 11))}\n",
    "grid_search = GridSearchCV(tree.DecisionTreeClassifier(random_state=42), param_grid, cv=10)\n",
    "grid_search.fit(X_train, y_train)\n",
    "best_max_depth = grid_search.best_params_['max_depth']\n",
    "print(\"Best max_depth via GridSearchCV:\", best_max_depth)"
   ]
  },
  {
   "cell_type": "code",
   "execution_count": 19,
   "metadata": {
    "colab": {
     "base_uri": "https://localhost:8080/",
     "height": 663
    },
    "execution": {
     "iopub.execute_input": "2025-10-01T20:15:58.874852Z",
     "iopub.status.busy": "2025-10-01T20:15:58.874852Z",
     "iopub.status.idle": "2025-10-01T20:15:59.070650Z",
     "shell.execute_reply": "2025-10-01T20:15:59.069664Z"
    },
    "executionInfo": {
     "elapsed": 225,
     "status": "ok",
     "timestamp": 1759256574808,
     "user": {
      "displayName": "J-NEIL BAGAMASBAD",
      "userId": "03177234785450833391"
     },
     "user_tz": -480
    },
    "id": "8EJhzCc0BIPA",
    "outputId": "4eb9e66a-8b7d-4287-ea27-600dee7ca80f"
   },
   "outputs": [
    {
     "name": "stdout",
     "output_type": "stream",
     "text": [
      "Accuracy for Decision Tree (best max_depth=3): 0.6568\n"
     ]
    },
    {
     "data": {
      "image/png": "[encoded data removed]",
      "text/plain": [
       "<Figure size 640x480 with 2 Axes>"
      ]
     },
     "metadata": {},
     "output_type": "display_data"
    },
    {
     "name": "stdout",
     "output_type": "stream",
     "text": [
      "              precision    recall  f1-score   support\n",
      "\n",
      " BENCHWARMER       0.67      0.57      0.62       108\n",
      "  ROLEPLAYER       0.47      0.72      0.57       135\n",
      "     STARTER       0.93      0.66      0.77       194\n",
      "\n",
      "    accuracy                           0.66       437\n",
      "   macro avg       0.69      0.65      0.65       437\n",
      "weighted avg       0.72      0.66      0.67       437\n",
      "\n"
     ]
    }
   ],
   "source": [
    "# Refit with best depth\n",
    "dt_best = tree.DecisionTreeClassifier(random_state=42, max_depth=best_max_depth)\n",
    "dt_best.fit(X_train, y_train)\n",
    "print(f\"Accuracy for Decision Tree (best max_depth={best_max_depth}): {dt_best.score(X_test, y_test):.4f}\")\n",
    "plot_conf_mat(dt_best, title=f\"Decision Tree (max_depth={best_max_depth}) Confusion Matrix\")"
   ]
  },
  {
   "cell_type": "code",
   "execution_count": 20,
   "metadata": {
    "colab": {
     "base_uri": "https://localhost:8080/",
     "height": 663
    },
    "execution": {
     "iopub.execute_input": "2025-10-01T20:15:59.074203Z",
     "iopub.status.busy": "2025-10-01T20:15:59.074203Z",
     "iopub.status.idle": "2025-10-01T20:15:59.243452Z",
     "shell.execute_reply": "2025-10-01T20:15:59.241439Z"
    },
    "executionInfo": {
     "elapsed": 185,
     "status": "ok",
     "timestamp": 1759256574995,
     "user": {
      "displayName": "J-NEIL BAGAMASBAD",
      "userId": "03177234785450833391"
     },
     "user_tz": -480
    },
    "id": "bdsGmAhXBJ6J",
    "outputId": "6bda7570-0d78-4d2c-eae9-71738a2bee0c"
   },
   "outputs": [
    {
     "name": "stdout",
     "output_type": "stream",
     "text": [
      "Accuracy for Naive Bayes: 0.6522\n"
     ]
    },
    {
     "data": {
      "image/png": "[encoded data removed]",
      "text/plain": [
       "<Figure size 640x480 with 2 Axes>"
      ]
     },
     "metadata": {},
     "output_type": "display_data"
    },
    {
     "name": "stdout",
     "output_type": "stream",
     "text": [
      "              precision    recall  f1-score   support\n",
      "\n",
      " BENCHWARMER       0.58      0.84      0.68       108\n",
      "  ROLEPLAYER       0.47      0.41      0.44       135\n",
      "     STARTER       0.86      0.71      0.78       194\n",
      "\n",
      "    accuracy                           0.65       437\n",
      "   macro avg       0.64      0.66      0.63       437\n",
      "weighted avg       0.67      0.65      0.65       437\n",
      "\n"
     ]
    }
   ],
   "source": [
    "# Naive Bayes\n",
    "nb_clf = GaussianNB()\n",
    "nb_clf.fit(X_train, y_train)\n",
    "nb_acc = nb_clf.score(X_test, y_test)\n",
    "print(f\"Accuracy for Naive Bayes: {nb_acc:.4f}\")\n",
    "plot_conf_mat(nb_clf, title=\"Naive Bayes Confusion Matrix\")"
   ]
  },
  {
   "cell_type": "code",
   "execution_count": 21,
   "metadata": {
    "colab": {
     "base_uri": "https://localhost:8080/"
    },
    "execution": {
     "iopub.execute_input": "2025-10-01T20:15:59.248872Z",
     "iopub.status.busy": "2025-10-01T20:15:59.247866Z",
     "iopub.status.idle": "2025-10-01T20:15:59.351320Z",
     "shell.execute_reply": "2025-10-01T20:15:59.349781Z"
    },
    "executionInfo": {
     "elapsed": 70,
     "status": "ok",
     "timestamp": 1759256575067,
     "user": {
      "displayName": "J-NEIL BAGAMASBAD",
      "userId": "03177234785450833391"
     },
     "user_tz": -480
    },
    "id": "pssSSzRaBMJ6",
    "outputId": "7c5a15fb-376f-4808-bf84-8437151bcbf2"
   },
   "outputs": [
    {
     "name": "stdout",
     "output_type": "stream",
     "text": [
      "\n",
      "Classification results saved to: C:\\Users\\jhbagamasbad\\Documents\\rs-classification\\data\\ANALYSIS\\ML_Classification_analysis_dataset.xlsx\n"
     ]
    }
   ],
   "source": [
    "# Save ML Predictions to Excel\n",
    "knn_preds = le.inverse_transform(knn_clf.predict(X_test))\n",
    "dt_preds  = le.inverse_transform(dt_best.predict(X_test))  # use tuned tree\n",
    "nb_preds  = le.inverse_transform(nb_clf.predict(X_test))\n",
    "\n",
    "results_df = pd.DataFrame({\n",
    "    'Player': players_test,\n",
    "    'True Label': true_labels,\n",
    "    'KNN Prediction': knn_preds,\n",
    "    'Decision Tree Prediction': dt_preds,\n",
    "    'Naive Bayes Prediction': nb_preds\n",
    "})\n",
    "\n",
    "ml_results_out = ANALYSIS_DIR / \"ML_Classification_analysis_dataset.xlsx\"\n",
    "results_df.to_excel(ml_results_out, index=False)\n",
    "print(f\"\\nClassification results saved to: {ml_results_out}\")"
   ]
  }
 ],
 "metadata": {
  "colab": {
   "authorship_tag": "ABX9TyNpIwc69c78hLrSf9ym4MsK",
   "provenance": []
  },
  "kernelspec": {
   "display_name": "Python 3 (ipykernel)",
   "language": "python",
   "name": "python3"
  },
  "language_info": {
   "codemirror_mode": {
    "name": "ipython",
    "version": 3
   },
   "file_extension": ".py",
   "mimetype": "text/x-python",
   "name": "python",
   "nbconvert_exporter": "python",
   "pygments_lexer": "ipython3",
   "version": "3.10.9"
  }
 },
 "nbformat": 4,
 "nbformat_minor": 1
}
